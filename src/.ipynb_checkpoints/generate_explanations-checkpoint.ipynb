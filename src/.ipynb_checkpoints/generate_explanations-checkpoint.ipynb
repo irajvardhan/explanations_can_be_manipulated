{
 "cells": [
  {
   "cell_type": "code",
   "execution_count": null,
   "metadata": {},
   "outputs": [],
   "source": [
    "import os\n",
    "os.environ[\"CUDA_DEVICE_ORDER\"]=\"PCI_BUS_ID\"   # see issue #152\n",
    "os.environ[\"CUDA_VISIBLE_DEVICES\"]=\"4\"\n",
    "\n",
    "import argparse\n",
    "import torch\n",
    "import torchvision\n",
    "import torch.nn.functional as F\n",
    "import numpy as np\n",
    "\n",
    "from nn.enums import ExplainingMethod\n",
    "from nn.networks import ExplainableNet\n",
    "from nn.utils import get_expl, plot_overview, clamp, load_image, make_dir"
   ]
  },
  {
   "cell_type": "code",
   "execution_count": null,
   "metadata": {},
   "outputs": [],
   "source": [
    "def get_beta(i, num_iter):\n",
    "    \"\"\"\n",
    "    Helper method for beta growth\n",
    "    \"\"\"\n",
    "    start_beta, end_beta = 10.0, 100.0\n",
    "    return start_beta * (end_beta / start_beta) ** (i / num_iter)\n",
    "\n",
    "def np_img_to_tensor(grayscale_img):\n",
    "    rgb_img = np.repeat(grayscale_img[..., np.newaxis], 3, -1)\n",
    "    im = Image.fromarray(rgb_img)\n",
    "    x = torchvision.transforms.Normalize(mean=data_mean, std=data_std)(torchvision.transforms.ToTensor()(torchvision.transforms.Resize(224)(im)))\n",
    "    x = x.unsqueeze(0).to(device)\n",
    "    return x"
   ]
  },
  {
   "cell_type": "code",
   "execution_count": null,
   "metadata": {},
   "outputs": [],
   "source": [
    "args_cuda = True\n",
    "\n",
    "# choices:['lrp', 'guided_backprop', 'gradient', 'integrated_grad','pattern_attribution', 'grad_times_input']\n",
    "args_method = 'lrp'\n",
    "args_beta_growth = None\n",
    "args_img = '../data/collie4.jpeg'\n",
    "args_target_img = '../data/tiger_cat.jpeg'\n",
    "args_num_iter = 1500\n",
    "args_prefactors = [1e11, 1e6]\n",
    "args_lr = 0.0002\n",
    "args_output_dir = '../output/'"
   ]
  },
  {
   "cell_type": "code",
   "execution_count": null,
   "metadata": {},
   "outputs": [],
   "source": [
    "# options\n",
    "device = torch.device(\"cuda\" if args_cuda else \"cpu\")\n",
    "method = getattr(ExplainingMethod, args_method)\n",
    "print('Explanation method {} will be used'.format(method))\n",
    "\n",
    "# load model\n",
    "# data_mean = np.array([0.485, 0.456, 0.406])\n",
    "# data_std = np.array([0.229, 0.224, 0.225])\n",
    "\n",
    "data_mean = np.array([0.0, 0.0, 0.0])\n",
    "data_std = np.array([1.0,1.0, 1.0])\n",
    "\n",
    "vgg_model = torchvision.models.vgg16(pretrained=True)\n",
    "model = ExplainableNet(vgg_model, data_mean=data_mean, data_std=data_std, beta=1000 if args_beta_growth else None)\n",
    "if method == ExplainingMethod.pattern_attribution:\n",
    "    model.load_state_dict(torch.load('../models/model_vgg16_pattern_small.pth'), strict=False)\n",
    "model = model.eval().to(device)\n",
    "\n",
    "#print(vgg_model)"
   ]
  },
  {
   "cell_type": "code",
   "execution_count": null,
   "metadata": {},
   "outputs": [],
   "source": [
    "# load images\n",
    "x = load_image(data_mean, data_std, device, args_img)\n",
    "x_target = load_image(data_mean, data_std, device, args_target_img)\n",
    "x_adv = x.clone().detach().requires_grad_()"
   ]
  },
  {
   "cell_type": "code",
   "execution_count": null,
   "metadata": {},
   "outputs": [],
   "source": [
    "x.requires_grad = True\n",
    "_, class_idx = model.classify(x)\n",
    "print('class_idx of dog: ',class_idx)\n",
    "\n",
    "_, target_class_idx = model.classify(x_target)\n",
    "print('class_idx of cat: ', target_class_idx)"
   ]
  },
  {
   "cell_type": "code",
   "execution_count": null,
   "metadata": {},
   "outputs": [],
   "source": [
    "\n",
    "org_expl, _, _ = get_expl(model, x, method, class_idx)\n",
    "org_expl_as_target, _, _ = get_expl(model, x, method, target_class_idx)\n",
    "\n",
    "\n",
    "target_expl, _, _ = get_expl(model, x_target, method, target_class_idx)\n",
    "target_expl_as_orig, _, _ = get_expl(model, x_target, method, class_idx)\n",
    "\n",
    "org_expl = org_expl.detach()\n",
    "org_expl_as_target = org_expl_as_target.detach()\n",
    "target_expl = target_expl.detach()\n",
    "target_expl_as_orig = target_expl_as_orig.detach()"
   ]
  },
  {
   "cell_type": "code",
   "execution_count": null,
   "metadata": {},
   "outputs": [],
   "source": [
    "import matplotlib.pyplot as plt\n",
    "%matplotlib inline\n",
    "org_expl_np = org_expl.cpu().numpy()\n",
    "plt.imshow(org_expl_np[0])"
   ]
  },
  {
   "cell_type": "code",
   "execution_count": null,
   "metadata": {},
   "outputs": [],
   "source": [
    "org_expl_as_target_np = org_expl_as_target.cpu().numpy()\n",
    "plt.imshow(org_expl_as_target_np[0])"
   ]
  },
  {
   "cell_type": "code",
   "execution_count": null,
   "metadata": {},
   "outputs": [],
   "source": [
    "target_expl_np = target_expl.cpu().numpy()\n",
    "plt.imshow(target_expl_np[0])"
   ]
  },
  {
   "cell_type": "code",
   "execution_count": null,
   "metadata": {},
   "outputs": [],
   "source": [
    "target_expl_as_orig_np = target_expl_as_orig.cpu().numpy()\n",
    "plt.imshow(target_expl_as_orig_np[0])"
   ]
  },
  {
   "cell_type": "code",
   "execution_count": null,
   "metadata": {},
   "outputs": [],
   "source": [
    "import keras\n",
    "from keras import datasets \n",
    "(x_train, y_train) ,(x_test, y_test) = datasets.fashion_mnist.load_data()\n",
    "from torchvision import datasets, transforms\n",
    "from PIL import Image\n",
    "\n",
    "x = np_img_to_tensor(x_train[0])\n",
    "x_adv = x.clone().detach().requires_grad_()\n",
    "print(x.shape)\n",
    "\n",
    "IS_X_ADV = False\n",
    "if IS_X_ADV:\n",
    "    x.requires_grad = True\n",
    "    _, class_idx = model.classify(x)\n",
    "    desired_idx = (class_idx+10)%1000\n",
    "    org_expl, org_acc, org_idx = get_expl(model, x, method,desired_idx)\n",
    "else:\n",
    "    org_expl, org_acc, org_idx = get_expl(model, x, method)\n",
    "org_expl = org_expl.detach().cpu()"
   ]
  },
  {
   "cell_type": "code",
   "execution_count": null,
   "metadata": {},
   "outputs": [],
   "source": []
  },
  {
   "cell_type": "code",
   "execution_count": null,
   "metadata": {},
   "outputs": [],
   "source": [
    "xnp = org_expl.numpy()\n",
    "xnp = xnp.reshape(224, 224)\n",
    "im2 = Image.fromarray(xnp)\n",
    "x_new = torchvision.transforms.ToTensor()(torchvision.transforms.Resize(28)(im2))\n",
    "x_new_np = x_new.numpy()\n",
    "x_new_np = x_new_np.reshape(28,28)\n"
   ]
  },
  {
   "cell_type": "code",
   "execution_count": null,
   "metadata": {},
   "outputs": [],
   "source": [
    "import keras\n",
    "from keras import datasets \n",
    "(x_train, y_train) ,(x_test, y_test) = datasets.fashion_mnist.load_data()\n",
    "from torchvision import datasets, transforms\n",
    "from PIL import Image\n",
    "\n",
    "x = np_img_to_tensor(x_train[0])\n",
    "x_adv = x.clone().detach().requires_grad_()\n",
    "print(x.shape)\n",
    "org_expl, org_acc, org_idx = get_expl(model, x, method)\n",
    "org_expl = org_expl.detach().cpu()\n",
    "\n",
    "# The class from which we will derive the target explanation\n",
    "source_class_idx = 6\n",
    "# pick index of x_train where the label is that of the source class\n",
    "idx = np.where(y_train == source_class_idx)[0][0]\n",
    "grayscale_img_src = x_train[idx]\n",
    "x_target = np_img_to_tensor(grayscale_img_src)\n",
    "target_expl, _, _ = get_expl(model, x_target, method)\n",
    "target_expl = target_expl.detach()"
   ]
  },
  {
   "cell_type": "code",
   "execution_count": null,
   "metadata": {},
   "outputs": [],
   "source": [
    "import matplotlib.pyplot as plt\n",
    "%matplotlib inline\n",
    "plt.imshow(x_train[0])"
   ]
  },
  {
   "cell_type": "code",
   "execution_count": null,
   "metadata": {},
   "outputs": [],
   "source": [
    "org_expl_np = org_expl.cpu().numpy()\n",
    "plt.imshow(org_expl_np[0])"
   ]
  },
  {
   "cell_type": "code",
   "execution_count": null,
   "metadata": {},
   "outputs": [],
   "source": [
    "plt.imshow(grayscale_img_src)"
   ]
  },
  {
   "cell_type": "code",
   "execution_count": null,
   "metadata": {},
   "outputs": [],
   "source": [
    "target_expl_np = target_expl.cpu().numpy()\n",
    "plt.imshow(target_expl_np[0])"
   ]
  },
  {
   "cell_type": "code",
   "execution_count": null,
   "metadata": {},
   "outputs": [],
   "source": []
  }
 ],
 "metadata": {
  "kernelspec": {
   "display_name": "torch_env",
   "language": "python",
   "name": "torch_env"
  },
  "language_info": {
   "codemirror_mode": {
    "name": "ipython",
    "version": 3
   },
   "file_extension": ".py",
   "mimetype": "text/x-python",
   "name": "python",
   "nbconvert_exporter": "python",
   "pygments_lexer": "ipython3",
   "version": "3.7.6"
  }
 },
 "nbformat": 4,
 "nbformat_minor": 4
}
