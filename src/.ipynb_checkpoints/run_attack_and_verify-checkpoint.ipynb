{
 "cells": [
  {
   "cell_type": "code",
   "execution_count": 1,
   "metadata": {},
   "outputs": [
    {
     "name": "stdout",
     "output_type": "stream",
     "text": [
      "no display found. Using non-interactive Agg backend\n"
     ]
    },
    {
     "name": "stderr",
     "output_type": "stream",
     "text": [
      "Using TensorFlow backend.\n",
      "/home/raj_vardhan/anaconda3/envs/torch_env/lib/python3.7/site-packages/tensorflow/python/framework/dtypes.py:526: FutureWarning: Passing (type, 1) or '1type' as a synonym of type is deprecated; in a future version of numpy, it will be understood as (type, (1,)) / '(1,)type'.\n",
      "  _np_qint8 = np.dtype([(\"qint8\", np.int8, 1)])\n",
      "/home/raj_vardhan/anaconda3/envs/torch_env/lib/python3.7/site-packages/tensorflow/python/framework/dtypes.py:527: FutureWarning: Passing (type, 1) or '1type' as a synonym of type is deprecated; in a future version of numpy, it will be understood as (type, (1,)) / '(1,)type'.\n",
      "  _np_quint8 = np.dtype([(\"quint8\", np.uint8, 1)])\n",
      "/home/raj_vardhan/anaconda3/envs/torch_env/lib/python3.7/site-packages/tensorflow/python/framework/dtypes.py:528: FutureWarning: Passing (type, 1) or '1type' as a synonym of type is deprecated; in a future version of numpy, it will be understood as (type, (1,)) / '(1,)type'.\n",
      "  _np_qint16 = np.dtype([(\"qint16\", np.int16, 1)])\n",
      "/home/raj_vardhan/anaconda3/envs/torch_env/lib/python3.7/site-packages/tensorflow/python/framework/dtypes.py:529: FutureWarning: Passing (type, 1) or '1type' as a synonym of type is deprecated; in a future version of numpy, it will be understood as (type, (1,)) / '(1,)type'.\n",
      "  _np_quint16 = np.dtype([(\"quint16\", np.uint16, 1)])\n",
      "/home/raj_vardhan/anaconda3/envs/torch_env/lib/python3.7/site-packages/tensorflow/python/framework/dtypes.py:530: FutureWarning: Passing (type, 1) or '1type' as a synonym of type is deprecated; in a future version of numpy, it will be understood as (type, (1,)) / '(1,)type'.\n",
      "  _np_qint32 = np.dtype([(\"qint32\", np.int32, 1)])\n",
      "/home/raj_vardhan/anaconda3/envs/torch_env/lib/python3.7/site-packages/tensorflow/python/framework/dtypes.py:535: FutureWarning: Passing (type, 1) or '1type' as a synonym of type is deprecated; in a future version of numpy, it will be understood as (type, (1,)) / '(1,)type'.\n",
      "  np_resource = np.dtype([(\"resource\", np.ubyte, 1)])\n"
     ]
    }
   ],
   "source": [
    "import os\n",
    "os.environ[\"CUDA_DEVICE_ORDER\"]=\"PCI_BUS_ID\"   # see issue #152\n",
    "os.environ[\"CUDA_VISIBLE_DEVICES\"]=\"6\"\n",
    "\n",
    "import argparse\n",
    "import torch\n",
    "import torchvision\n",
    "import torch.nn.functional as F\n",
    "import numpy as np\n",
    "\n",
    "from nn.enums import ExplainingMethod\n",
    "from nn.networks import ExplainableNet\n",
    "from nn.utils import get_expl, plot_overview, clamp, load_image, make_dir\n",
    "import keras\n",
    "from keras import datasets \n",
    "from PIL import Image\n",
    "import matplotlib.pyplot as plt\n",
    "%matplotlib inline\n",
    "from keras.models import model_from_json, load_model"
   ]
  },
  {
   "cell_type": "code",
   "execution_count": 2,
   "metadata": {},
   "outputs": [],
   "source": [
    "def get_beta(i, num_iter):\n",
    "    \"\"\"\n",
    "    Helper method for beta growth\n",
    "    \"\"\"\n",
    "    start_beta, end_beta = 10.0, 100.0\n",
    "    return start_beta * (end_beta / start_beta) ** (i / num_iter)\n",
    "\n",
    "# def np_img_to_tensor(grayscale_img):\n",
    "#     rgb_img = np.repeat(grayscale_img[..., np.newaxis], 3, -1)\n",
    "#     im = Image.fromarray(rgb_img)\n",
    "#     x = torchvision.transforms.Normalize(mean=data_mean, std=data_std)(torchvision.transforms.ToTensor()(torchvision.transforms.Resize(224)(im)))\n",
    "#     x = x.unsqueeze(0).to(device)\n",
    "#     return x\n",
    "\n",
    "def np_img_to_tensor(input_img,data_mean,data_std, device, num_ch=1):\n",
    "    if num_ch == 1:\n",
    "        rgb_img = np.repeat(input_img[..., np.newaxis], 3, -1)\n",
    "    else:\n",
    "        rgb_img = input_img\n",
    "    im = Image.fromarray(rgb_img)\n",
    "    x = torchvision.transforms.Normalize(mean=data_mean, std=data_std)(torchvision.transforms.ToTensor()(torchvision.transforms.Resize(224)(im)))\n",
    "    x = x.unsqueeze(0).to(device)\n",
    "    return x"
   ]
  },
  {
   "cell_type": "code",
   "execution_count": 3,
   "metadata": {},
   "outputs": [],
   "source": [
    "# args\n",
    "args_cuda = True\n",
    "args_method = 'pattern_attribution'\n",
    "args_beta_growth = None\n",
    "args_num_iter = 500\n",
    "args_prefactors = [1e11, 1e6]\n",
    "args_lr = 2* (10**(-3))\n",
    "args_output_dir = '../output/'\n",
    "args_role = 'adversary'\n",
    "args_dataset = 'cifar10'\n",
    "target_class_idx = 6\n",
    "attack_method = 'cwl2/conf_0'\n",
    "args_adv_dir = '../../xai-adv/data/postndss/{}/{}/target_next/target_{}/{}/'\n",
    "if args_dataset in ['mnist','fmnist']:\n",
    "    num_ch = 1\n",
    "    side = 28\n",
    "elif args_dataset == 'cifar10':\n",
    "    num_ch = 3\n",
    "    side = 32"
   ]
  },
  {
   "cell_type": "code",
   "execution_count": 4,
   "metadata": {},
   "outputs": [
    {
     "name": "stdout",
     "output_type": "stream",
     "text": [
      "Explanation method ExplainingMethod.pattern_attribution will be used\n",
      "VGG(\n",
      "  (features): Sequential(\n",
      "    (0): Conv2d(3, 64, kernel_size=(3, 3), stride=(1, 1), padding=(1, 1))\n",
      "    (1): ReLU(inplace=True)\n",
      "    (2): Conv2d(64, 64, kernel_size=(3, 3), stride=(1, 1), padding=(1, 1))\n",
      "    (3): ReLU(inplace=True)\n",
      "    (4): MaxPool2d(kernel_size=2, stride=2, padding=0, dilation=1, ceil_mode=False)\n",
      "    (5): Conv2d(64, 128, kernel_size=(3, 3), stride=(1, 1), padding=(1, 1))\n",
      "    (6): ReLU(inplace=True)\n",
      "    (7): Conv2d(128, 128, kernel_size=(3, 3), stride=(1, 1), padding=(1, 1))\n",
      "    (8): ReLU(inplace=True)\n",
      "    (9): MaxPool2d(kernel_size=2, stride=2, padding=0, dilation=1, ceil_mode=False)\n",
      "    (10): Conv2d(128, 256, kernel_size=(3, 3), stride=(1, 1), padding=(1, 1))\n",
      "    (11): ReLU(inplace=True)\n",
      "    (12): Conv2d(256, 256, kernel_size=(3, 3), stride=(1, 1), padding=(1, 1))\n",
      "    (13): ReLU(inplace=True)\n",
      "    (14): Conv2d(256, 256, kernel_size=(3, 3), stride=(1, 1), padding=(1, 1))\n",
      "    (15): ReLU(inplace=True)\n",
      "    (16): MaxPool2d(kernel_size=2, stride=2, padding=0, dilation=1, ceil_mode=False)\n",
      "    (17): Conv2d(256, 512, kernel_size=(3, 3), stride=(1, 1), padding=(1, 1))\n",
      "    (18): ReLU(inplace=True)\n",
      "    (19): Conv2d(512, 512, kernel_size=(3, 3), stride=(1, 1), padding=(1, 1))\n",
      "    (20): ReLU(inplace=True)\n",
      "    (21): Conv2d(512, 512, kernel_size=(3, 3), stride=(1, 1), padding=(1, 1))\n",
      "    (22): ReLU(inplace=True)\n",
      "    (23): MaxPool2d(kernel_size=2, stride=2, padding=0, dilation=1, ceil_mode=False)\n",
      "    (24): Conv2d(512, 512, kernel_size=(3, 3), stride=(1, 1), padding=(1, 1))\n",
      "    (25): ReLU(inplace=True)\n",
      "    (26): Conv2d(512, 512, kernel_size=(3, 3), stride=(1, 1), padding=(1, 1))\n",
      "    (27): ReLU(inplace=True)\n",
      "    (28): Conv2d(512, 512, kernel_size=(3, 3), stride=(1, 1), padding=(1, 1))\n",
      "    (29): ReLU(inplace=True)\n",
      "    (30): MaxPool2d(kernel_size=2, stride=2, padding=0, dilation=1, ceil_mode=False)\n",
      "  )\n",
      "  (avgpool): AdaptiveAvgPool2d(output_size=(7, 7))\n",
      "  (classifier): Sequential(\n",
      "    (0): Linear(in_features=25088, out_features=4096, bias=True)\n",
      "    (1): ReLU(inplace=True)\n",
      "    (2): Dropout(p=0.5, inplace=False)\n",
      "    (3): Linear(in_features=4096, out_features=4096, bias=True)\n",
      "    (4): ReLU(inplace=True)\n",
      "    (5): Dropout(p=0.5, inplace=False)\n",
      "    (6): Linear(in_features=4096, out_features=1000, bias=True)\n",
      "  )\n",
      ")\n"
     ]
    }
   ],
   "source": [
    "# options\n",
    "device = torch.device(\"cuda\" if args_cuda else \"cpu\")\n",
    "method = getattr(ExplainingMethod, args_method)\n",
    "print('Explanation method {} will be used'.format(method))\n",
    "\n",
    "# load model\n",
    "data_mean = np.array([0.0, 0.0, 0.0])\n",
    "data_std = np.array([1.0, 1.0, 1.0])\n",
    "\n",
    "vgg_model = torchvision.models.vgg16(pretrained=True)\n",
    "model = ExplainableNet(vgg_model, data_mean=data_mean, data_std=data_std, beta=1000 if args_beta_growth else None)\n",
    "if method == ExplainingMethod.pattern_attribution:\n",
    "    model.load_state_dict(torch.load('../models/model_vgg16_pattern_small.pth'), strict=False)\n",
    "model = model.eval().to(device)\n",
    "\n",
    "print(vgg_model)"
   ]
  },
  {
   "cell_type": "code",
   "execution_count": 5,
   "metadata": {},
   "outputs": [
    {
     "name": "stdout",
     "output_type": "stream",
     "text": [
      "Loading 100 adv samples from ../../xai-adv/data/postndss/adversary/cifar10/target_next/target_6/cwl2/conf_0/ \n",
      "Retaining 10 adv samples\n"
     ]
    }
   ],
   "source": [
    "adv_dir = args_adv_dir.format(args_role, args_dataset, str(target_class_idx), attack_method)\n",
    "x_train = np.load(adv_dir + '/x_adv_ar.npy')\n",
    "print('Loading {} adv samples from {} '.format(x_train.shape[0],adv_dir))\n",
    "x_train = x_train[0:10]\n",
    "print('Retaining {} adv samples'.format(x_train.shape[0]))\n",
    "x_train = (x_train*255).astype(np.uint8)"
   ]
  },
  {
   "cell_type": "code",
   "execution_count": 6,
   "metadata": {},
   "outputs": [
    {
     "name": "stdout",
     "output_type": "stream",
     "text": [
      "(32, 32, 3)\n",
      "2 219\n"
     ]
    }
   ],
   "source": [
    "# The sample is initialized with adversarial example. We will derive adv2 from this \n",
    "sample = x_train[0]\n",
    "print(sample.shape)\n",
    "print(np.min(sample), np.max(sample))"
   ]
  },
  {
   "cell_type": "code",
   "execution_count": 7,
   "metadata": {},
   "outputs": [
    {
     "name": "stdout",
     "output_type": "stream",
     "text": [
      "torch.Size([1, 3, 224, 224])\n",
      "tensor(0.0078, device='cuda:0') tensor(0.8588, device='cuda:0') tensor(0.3652, device='cuda:0')\n"
     ]
    }
   ],
   "source": [
    "x = np_img_to_tensor(sample, data_mean, data_std, device, num_ch)\n",
    "x_adv = x.clone().detach().requires_grad_()\n",
    "print(x.shape)\n",
    "print(torch.min(x), torch.max(x),torch.mean(x))"
   ]
  },
  {
   "cell_type": "code",
   "execution_count": 8,
   "metadata": {},
   "outputs": [
    {
     "name": "stdout",
     "output_type": "stream",
     "text": [
      "original class of x is  274\n"
     ]
    }
   ],
   "source": [
    "x_pred = model(x)\n",
    "x_pred_class = torch.argmax(x_pred,axis=1)\n",
    "print('original class of x is ',int(x_pred_class))"
   ]
  },
  {
   "cell_type": "code",
   "execution_count": 9,
   "metadata": {},
   "outputs": [
    {
     "name": "stdout",
     "output_type": "stream",
     "text": [
      "This is the adversarial example\n"
     ]
    },
    {
     "data": {
      "text/plain": [
       "<matplotlib.image.AxesImage at 0x7f1b905b0f50>"
      ]
     },
     "execution_count": 9,
     "metadata": {},
     "output_type": "execute_result"
    },
    {
     "data": {
      "image/png": "[encoded data removed]",
      "text/plain": [
       "<Figure size 432x288 with 1 Axes>"
      ]
     },
     "metadata": {
      "needs_background": "light"
     },
     "output_type": "display_data"
    }
   ],
   "source": [
    "print('This is the adversarial example')\n",
    "plt.imshow(sample)"
   ]
  },
  {
   "cell_type": "code",
   "execution_count": 10,
   "metadata": {},
   "outputs": [],
   "source": [
    "org_expl, org_acc, org_idx = get_expl(model, x, method)\n",
    "org_expl = org_expl.detach().cpu()"
   ]
  },
  {
   "cell_type": "code",
   "execution_count": 11,
   "metadata": {},
   "outputs": [
    {
     "name": "stdout",
     "output_type": "stream",
     "text": [
      "This is the current explanation of the adversarial example\n"
     ]
    },
    {
     "data": {
      "text/plain": [
       "<matplotlib.image.AxesImage at 0x7f1b904d5d90>"
      ]
     },
     "execution_count": 11,
     "metadata": {},
     "output_type": "execute_result"
    },
    {
     "data": {
      "image/png": "[encoded data removed]",
      "text/plain": [
       "<Figure size 432x288 with 1 Axes>"
      ]
     },
     "metadata": {
      "needs_background": "light"
     },
     "output_type": "display_data"
    }
   ],
   "source": [
    "print('This is the current explanation of the adversarial example')\n",
    "org_expl_np = org_expl.cpu().numpy()\n",
    "plt.imshow(org_expl_np[0])"
   ]
  },
  {
   "cell_type": "code",
   "execution_count": 12,
   "metadata": {},
   "outputs": [],
   "source": [
    "if args_dataset == 'fmnist':\n",
    "    (x_train_orig, y_train_orig), (x_test_orig, y_test_orig) = datasets.fashion_mnist.load_data()\n",
    "elif args_dataset == 'cifar10':\n",
    "    (x_train_orig, y_train_orig), (x_test_orig, y_test_orig) = datasets.cifar10.load_data()"
   ]
  },
  {
   "cell_type": "code",
   "execution_count": 13,
   "metadata": {},
   "outputs": [
    {
     "name": "stdout",
     "output_type": "stream",
     "text": [
      "\n",
      "-----target_class_idx:7-----\n",
      "WARNING:tensorflow:From /home/raj_vardhan/anaconda3/envs/torch_env/lib/python3.7/site-packages/tensorflow/python/framework/op_def_library.py:263: colocate_with (from tensorflow.python.framework.ops) is deprecated and will be removed in a future version.\n",
      "Instructions for updating:\n",
      "Colocations handled automatically by placer.\n",
      "WARNING:tensorflow:From /home/raj_vardhan/anaconda3/envs/torch_env/lib/python3.7/site-packages/tensorflow/python/ops/math_ops.py:3066: to_int32 (from tensorflow.python.ops.math_ops) is deprecated and will be removed in a future version.\n",
      "Instructions for updating:\n",
      "Use tf.cast instead.\n",
      "choice:  0\n",
      "(1, 224, 224)\n",
      "(32, 32)\n",
      "1\n",
      "choice:  1\n",
      "(1, 224, 224)\n",
      "(32, 32)\n",
      "1\n",
      "choice:  2\n",
      "(1, 224, 224)\n",
      "(32, 32)\n",
      "1\n",
      "choice:  3\n",
      "(1, 224, 224)\n",
      "(32, 32)\n",
      "1\n",
      "choice:  4\n",
      "(1, 224, 224)\n",
      "(32, 32)\n",
      "1\n",
      "choice:  5\n",
      "(1, 224, 224)\n",
      "(32, 32)\n",
      "1\n",
      "choice:  6\n",
      "(1, 224, 224)\n",
      "(32, 32)\n",
      "1\n",
      "choice:  7\n",
      "(1, 224, 224)\n",
      "(32, 32)\n",
      "1\n",
      "choice:  8\n",
      "(1, 224, 224)\n",
      "(32, 32)\n",
      "1\n",
      "choice:  9\n",
      "(1, 224, 224)\n",
      "(32, 32)\n",
      "0\n",
      "choose 9 for target class idx 7\n",
      "\n",
      "-----target_class_idx:8-----\n",
      "choice:  0\n",
      "(1, 224, 224)\n",
      "(32, 32)\n",
      "1\n",
      "choice:  1\n",
      "(1, 224, 224)\n",
      "(32, 32)\n",
      "1\n",
      "choice:  2\n",
      "(1, 224, 224)\n",
      "(32, 32)\n",
      "0\n",
      "choose 2 for target class idx 8\n",
      "\n",
      "-----target_class_idx:9-----\n",
      "choice:  0\n",
      "(1, 224, 224)\n",
      "(32, 32)\n",
      "0\n",
      "choose 0 for target class idx 9\n"
     ]
    }
   ],
   "source": [
    "# The class from which we will derive the target explanation\n",
    "for target_class_idx in range(10):\n",
    "# pick index of x_train where the label is that of the source class\n",
    "    print('\\n-----target_class_idx:{}-----'.format(target_class_idx))\n",
    "    indices_of_class = np.where(y_train_orig == target_class_idx)[0]\n",
    "    \n",
    "    orig_dir = '../data/defender/'+ args_dataset+'/orig/train/' + args_method + '/' + str(target_class_idx)\n",
    "    model_dir = orig_dir + '/model'\n",
    "\n",
    "    # Load pre-trained model\n",
    "    exp_model = load_model(model_dir + '/exp_model.h5')\n",
    "        \n",
    "    for choice in range(40):\n",
    "        print('choice: ',choice)\n",
    "        idx = indices_of_class[choice]\n",
    "        img_src = x_train_orig[idx]\n",
    "        x_target = np_img_to_tensor(img_src, data_mean, data_std, device, num_ch)\n",
    "        target_expl, _, _ = get_expl(model, x_target, method)\n",
    "        target_expl = target_expl.detach()\n",
    "\n",
    "        #print('This is an image from the target class which we will use to produce the target explanation')\n",
    "        #plt.imshow(x_train_orig[idx])\n",
    "\n",
    "        #print('This is the target explanation we want')\n",
    "        target_expl_np = target_expl.cpu().numpy()\n",
    "        #plt.imshow(target_expl_np[0])\n",
    "\n",
    "        print(target_expl_np.shape)\n",
    "        target_expl_np = target_expl_np.reshape(224, 224)\n",
    "        im2 = Image.fromarray(target_expl_np)\n",
    "        target_expl_np2 = torchvision.transforms.ToTensor()(torchvision.transforms.Resize(side)(im2))\n",
    "        target_expl_np2 = target_expl_np2.numpy()\n",
    "        target_expl_np2 = target_expl_np2.reshape(side, side)\n",
    "        print(target_expl_np2.shape)\n",
    "        #plt.imshow(target_expl_np2)\n",
    "\n",
    "        #print(np.min(target_expl_np2), np.max(target_expl_np2))\n",
    "\n",
    "        t_exp = target_expl_np2\n",
    "        t_exp *= 255.0/np.max(t_exp)\n",
    "        t_exp = t_exp.astype(int)\n",
    "\n",
    "        #print(np.min(t_exp), np.max(t_exp))\n",
    "\n",
    "        t_exp = t_exp.reshape(-1,side,side,1)\n",
    "\n",
    "        #evaluate model on adv samples\n",
    "        result_test = exp_model.predict(t_exp)\n",
    "        #print(result_test)\n",
    "        result_test_class = np.argmax(result_test, axis=1)[0]\n",
    "        print(result_test_class)\n",
    "        if result_test_class == 0:\n",
    "            print('choose {} for target class idx {}'.format(choice,target_class_idx))\n",
    "            break\n",
    "    "
   ]
  },
  {
   "cell_type": "markdown",
   "metadata": {},
   "source": [
    "### Now we do the attack and produce adv2 which results in the target explanation map"
   ]
  },
  {
   "cell_type": "code",
   "execution_count": 27,
   "metadata": {},
   "outputs": [
    {
     "name": "stdout",
     "output_type": "stream",
     "text": [
      "Iteration 0: Total Loss: 29.564104080200195, Expl Loss: 2.956410394272524e-10, Output Loss: 0.0\n",
      "Iteration 1: Total Loss: 24.197696685791016, Expl Loss: 2.2469076599307414e-10, Output Loss: 1.7286214415435097e-06\n",
      "Iteration 2: Total Loss: 37.609886169433594, Expl Loss: 1.957259354590235e-10, Output Loss: 1.803729173843749e-05\n",
      "Iteration 3: Total Loss: 19.39965057373047, Expl Loss: 1.780490338498808e-10, Output Loss: 1.5947479141686927e-06\n",
      "Iteration 4: Total Loss: 20.184892654418945, Expl Loss: 1.653770315135361e-10, Output Loss: 3.647189487310243e-06\n",
      "Iteration 5: Total Loss: 18.65789794921875, Expl Loss: 1.5592109547934996e-10, Output Loss: 3.065788177991635e-06\n",
      "Iteration 6: Total Loss: 16.500844955444336, Expl Loss: 1.5100991290761812e-10, Output Loss: 1.3998541135151754e-06\n",
      "Iteration 7: Total Loss: 15.269168853759766, Expl Loss: 1.4606579834541833e-10, Output Loss: 6.62589457078866e-07\n",
      "Iteration 8: Total Loss: 14.62734317779541, Expl Loss: 1.3782278096563516e-10, Output Loss: 8.450647328572813e-07\n",
      "Iteration 9: Total Loss: 13.577576637268066, Expl Loss: 1.2802522930677185e-10, Output Loss: 7.750541044515558e-07\n",
      "Iteration 10: Total Loss: 12.747958183288574, Expl Loss: 1.1981843295316708e-10, Output Loss: 7.661154768356937e-07\n",
      "Iteration 11: Total Loss: 12.286231994628906, Expl Loss: 1.1364450352990829e-10, Output Loss: 9.217815772899485e-07\n",
      "Iteration 12: Total Loss: 11.456022262573242, Expl Loss: 1.0804538513875528e-10, Output Loss: 6.514838446491922e-07\n",
      "Iteration 13: Total Loss: 10.906100273132324, Expl Loss: 1.027977772349864e-10, Output Loss: 6.26323128471995e-07\n",
      "Iteration 14: Total Loss: 10.286603927612305, Expl Loss: 9.753956670133235e-11, Output Loss: 5.326476184563944e-07\n",
      "Iteration 15: Total Loss: 9.787220001220703, Expl Loss: 9.219616736722003e-11, Output Loss: 5.676034220414294e-07\n",
      "Iteration 16: Total Loss: 9.345653533935547, Expl Loss: 8.76359332324661e-11, Output Loss: 5.820604087602987e-07\n",
      "Iteration 17: Total Loss: 8.856463432312012, Expl Loss: 8.38637076450155e-11, Output Loss: 4.700924876033241e-07\n",
      "Iteration 18: Total Loss: 8.469966888427734, Expl Loss: 8.000031193056145e-11, Output Loss: 4.6993565661068715e-07\n",
      "Iteration 19: Total Loss: 8.066381454467773, Expl Loss: 7.614043423531669e-11, Output Loss: 4.5233812784317706e-07\n",
      "Iteration 20: Total Loss: 7.7103142738342285, Expl Loss: 7.261588552687215e-11, Output Loss: 4.487256433094444e-07\n",
      "Iteration 21: Total Loss: 7.339629650115967, Expl Loss: 6.941924812764455e-11, Output Loss: 3.97705093746481e-07\n",
      "Iteration 22: Total Loss: 7.030468463897705, Expl Loss: 6.637503047191018e-11, Output Loss: 3.929654894818668e-07\n",
      "Iteration 23: Total Loss: 6.689666748046875, Expl Loss: 6.339675312494464e-11, Output Loss: 3.4999158060600166e-07\n",
      "Iteration 24: Total Loss: 6.384129047393799, Expl Loss: 6.053656187443579e-11, Output Loss: 3.304727727027057e-07\n",
      "Iteration 25: Total Loss: 6.104527950286865, Expl Loss: 5.788544990559252e-11, Output Loss: 3.1598341365679516e-07\n",
      "Iteration 26: Total Loss: 5.823526382446289, Expl Loss: 5.536087560598091e-11, Output Loss: 2.8743903612848953e-07\n",
      "Iteration 27: Total Loss: 5.592994689941406, Expl Loss: 5.2960105051402806e-11, Output Loss: 2.969842398670153e-07\n",
      "Iteration 28: Total Loss: 5.351685523986816, Expl Loss: 5.073572464930898e-11, Output Loss: 2.781132195650571e-07\n",
      "Iteration 29: Total Loss: 5.126181602478027, Expl Loss: 4.8748650949281824e-11, Output Loss: 2.513166066364647e-07\n",
      "Iteration 30: Total Loss: 4.92664909362793, Expl Loss: 4.689636873278502e-11, Output Loss: 2.3701232976236497e-07\n",
      "Iteration 31: Total Loss: 4.743554592132568, Expl Loss: 4.515670476434863e-11, Output Loss: 2.2788407250118325e-07\n",
      "Iteration 32: Total Loss: 4.574440002441406, Expl Loss: 4.352987761913063e-11, Output Loss: 2.2145242439819413e-07\n",
      "Iteration 33: Total Loss: 4.404096603393555, Expl Loss: 4.205066156393045e-11, Output Loss: 1.990304383525654e-07\n",
      "Iteration 34: Total Loss: 4.2464189529418945, Expl Loss: 4.05921095347761e-11, Output Loss: 1.8720841410413414e-07\n",
      "Iteration 35: Total Loss: 4.095261573791504, Expl Loss: 3.9142886848475555e-11, Output Loss: 1.8097281895279593e-07\n",
      "Iteration 36: Total Loss: 3.9522297382354736, Expl Loss: 3.772431325654857e-11, Output Loss: 1.797986755036618e-07\n",
      "Iteration 37: Total Loss: 3.8273887634277344, Expl Loss: 3.64608968017599e-11, Output Loss: 1.8129928491816827e-07\n",
      "Iteration 38: Total Loss: 3.7138829231262207, Expl Loss: 3.5289479671796187e-11, Output Loss: 1.8493518894047156e-07\n",
      "Iteration 39: Total Loss: 3.6254940032958984, Expl Loss: 3.414745222696247e-11, Output Loss: 2.1074887968097755e-07\n",
      "Iteration 40: Total Loss: 3.5609328746795654, Expl Loss: 3.320177119348067e-11, Output Loss: 2.4075572468973405e-07\n",
      "Iteration 41: Total Loss: 3.4557011127471924, Expl Loss: 3.2075734429648506e-11, Output Loss: 2.481277761035017e-07\n",
      "Iteration 42: Total Loss: 3.3012776374816895, Expl Loss: 3.125621636512754e-11, Output Loss: 1.7565595555879554e-07\n",
      "Iteration 43: Total Loss: 3.159295082092285, Expl Loss: 3.034026155313008e-11, Output Loss: 1.252689969533094e-07\n",
      "Iteration 44: Total Loss: 3.1182191371917725, Expl Loss: 2.958081696258219e-11, Output Loss: 1.6013731851671764e-07\n",
      "Iteration 45: Total Loss: 3.0564141273498535, Expl Loss: 2.878462398991921e-11, Output Loss: 1.7795180440316472e-07\n",
      "Iteration 46: Total Loss: 2.931056022644043, Expl Loss: 2.7892318663069737e-11, Output Loss: 1.418242447925877e-07\n",
      "Iteration 47: Total Loss: 2.816063404083252, Expl Loss: 2.7095591395576157e-11, Output Loss: 1.065043093717577e-07\n",
      "Iteration 48: Total Loss: 2.7669150829315186, Expl Loss: 2.6405686665009753e-11, Output Loss: 1.2634669133149146e-07\n",
      "Iteration 49: Total Loss: 2.7207043170928955, Expl Loss: 2.572926940946907e-11, Output Loss: 1.4777731394133298e-07\n",
      "Iteration 50: Total Loss: 2.632002115249634, Expl Loss: 2.5012686366565617e-11, Output Loss: 1.3073355376036488e-07\n",
      "Iteration 51: Total Loss: 2.5414459705352783, Expl Loss: 2.4409649648782228e-11, Output Loss: 1.0048113097127498e-07\n",
      "Iteration 52: Total Loss: 2.4732275009155273, Expl Loss: 2.3822197686707014e-11, Output Loss: 9.10076423110695e-08\n",
      "Iteration 53: Total Loss: 2.428943157196045, Expl Loss: 2.3242116564681226e-11, Output Loss: 1.0473145550804475e-07\n",
      "Iteration 54: Total Loss: 2.386807680130005, Expl Loss: 2.267807469591432e-11, Output Loss: 1.1900012708565555e-07\n",
      "Iteration 55: Total Loss: 2.3327419757843018, Expl Loss: 2.2190816892364573e-11, Output Loss: 1.1366034868842689e-07\n",
      "Iteration 56: Total Loss: 2.2590978145599365, Expl Loss: 2.168162004101415e-11, Output Loss: 9.09360338141596e-08\n",
      "Iteration 57: Total Loss: 2.194150686264038, Expl Loss: 2.114306646427977e-11, Output Loss: 7.98440495941577e-08\n",
      "Iteration 58: Total Loss: 2.1609010696411133, Expl Loss: 2.0694307378832377e-11, Output Loss: 9.147045432200684e-08\n",
      "Iteration 59: Total Loss: 2.1250436305999756, Expl Loss: 2.0214430823672913e-11, Output Loss: 1.0360059121694576e-07\n",
      "Iteration 60: Total Loss: 2.0818612575531006, Expl Loss: 1.9800914380363466e-11, Output Loss: 1.0176984233112307e-07\n",
      "Iteration 61: Total Loss: 2.0343093872070312, Expl Loss: 1.9384448907144858e-11, Output Loss: 9.586460691934917e-08\n",
      "Iteration 62: Total Loss: 1.98102867603302, Expl Loss: 1.9000181636363855e-11, Output Loss: 8.101055470888241e-08\n",
      "Iteration 63: Total Loss: 1.9401524066925049, Expl Loss: 1.8653892666642413e-11, Output Loss: 7.476320718069474e-08\n",
      "Iteration 64: Total Loss: 1.9033236503601074, Expl Loss: 1.8317685909763348e-11, Output Loss: 7.155510672873788e-08\n",
      "Iteration 65: Total Loss: 1.8731911182403564, Expl Loss: 1.800284921138484e-11, Output Loss: 7.290624637334986e-08\n",
      "Iteration 66: Total Loss: 1.853083610534668, Expl Loss: 1.7685512776477452e-11, Output Loss: 8.453235977867735e-08\n",
      "Iteration 67: Total Loss: 1.8496369123458862, Expl Loss: 1.7420977854731845e-11, Output Loss: 1.07539229077247e-07\n",
      "Iteration 68: Total Loss: 1.8811886310577393, Expl Loss: 1.71308037200113e-11, Output Loss: 1.6810828640245745e-07\n",
      "Iteration 69: Total Loss: 1.9504241943359375, Expl Loss: 1.692536388819832e-11, Output Loss: 2.578878763870307e-07\n",
      "Iteration 70: Total Loss: 1.9314321279525757, Expl Loss: 1.6648267833763164e-11, Output Loss: 2.6660541152523365e-07\n",
      "Iteration 71: Total Loss: 1.7294515371322632, Expl Loss: 1.646484511230728e-11, Output Loss: 8.296709808064406e-08\n"
     ]
    },
    {
     "name": "stdout",
     "output_type": "stream",
     "text": [
      "Iteration 72: Total Loss: 1.7446519136428833, Expl Loss: 1.6217280990327154e-11, Output Loss: 1.229238648647879e-07\n",
      "Iteration 73: Total Loss: 1.792284607887268, Expl Loss: 1.6049711906718223e-11, Output Loss: 1.8731347495304362e-07\n",
      "Iteration 74: Total Loss: 1.643205165863037, Expl Loss: 1.580685929369885e-11, Output Loss: 6.251929818290591e-08\n",
      "Iteration 75: Total Loss: 1.687652349472046, Expl Loss: 1.560497217556467e-11, Output Loss: 1.2715520369965816e-07\n",
      "Iteration 76: Total Loss: 1.6396260261535645, Expl Loss: 1.5365516151111258e-11, Output Loss: 1.0307442721568805e-07\n",
      "Iteration 77: Total Loss: 1.5786190032958984, Expl Loss: 1.5157425661826984e-11, Output Loss: 6.287641696189894e-08\n",
      "Iteration 78: Total Loss: 1.609121561050415, Expl Loss: 1.4983715657113095e-11, Output Loss: 1.1075006511873653e-07\n",
      "Iteration 79: Total Loss: 1.5452468395233154, Expl Loss: 1.4798393413451016e-11, Output Loss: 6.5407540716933e-08\n",
      "Iteration 80: Total Loss: 1.5392260551452637, Expl Loss: 1.4591777439121323e-11, Output Loss: 8.004828799812458e-08\n",
      "Iteration 81: Total Loss: 1.5254220962524414, Expl Loss: 1.442819301533671e-11, Output Loss: 8.260287387429344e-08\n",
      "Iteration 82: Total Loss: 1.476741075515747, Expl Loss: 1.4202809935082161e-11, Output Loss: 5.646014500371166e-08\n",
      "Iteration 83: Total Loss: 1.4875835180282593, Expl Loss: 1.4052165681066597e-11, Output Loss: 8.236698079144844e-08\n",
      "Iteration 84: Total Loss: 1.4446454048156738, Expl Loss: 1.388606504088008e-11, Output Loss: 5.6038928164525714e-08\n",
      "Iteration 85: Total Loss: 1.432162880897522, Expl Loss: 1.3683523931995456e-11, Output Loss: 6.381042538805559e-08\n",
      "Iteration 86: Total Loss: 1.4161067008972168, Expl Loss: 1.3476106515419861e-11, Output Loss: 6.849609235359821e-08\n",
      "Iteration 87: Total Loss: 1.3789231777191162, Expl Loss: 1.3290576972302404e-11, Output Loss: 4.986551260799388e-08\n",
      "Iteration 88: Total Loss: 1.3789401054382324, Expl Loss: 1.3157475976799393e-11, Output Loss: 6.319242373820089e-08\n",
      "Iteration 89: Total Loss: 1.353657603263855, Expl Loss: 1.2980715460852998e-11, Output Loss: 5.558614546430363e-08\n",
      "Iteration 90: Total Loss: 1.331833839416504, Expl Loss: 1.28213073838368e-11, Output Loss: 4.970316780372741e-08\n",
      "Iteration 91: Total Loss: 1.322439193725586, Expl Loss: 1.2660146368748126e-11, Output Loss: 5.6424617866923654e-08\n",
      "Iteration 92: Total Loss: 1.3028056621551514, Expl Loss: 1.2494770842974567e-11, Output Loss: 5.3328580662537206e-08\n",
      "Iteration 93: Total Loss: 1.2822195291519165, Expl Loss: 1.2356685986925076e-11, Output Loss: 4.6550962196079126e-08\n",
      "Iteration 94: Total Loss: 1.2748050689697266, Expl Loss: 1.2199818412439445e-11, Output Loss: 5.482331744133262e-08\n",
      "Iteration 95: Total Loss: 1.2549747228622437, Expl Loss: 1.2061594778511875e-11, Output Loss: 4.8815252284839517e-08\n",
      "Iteration 96: Total Loss: 1.2387473583221436, Expl Loss: 1.1934293830950793e-11, Output Loss: 4.5317982255710376e-08\n",
      "Iteration 97: Total Loss: 1.222893476486206, Expl Loss: 1.1784258464875297e-11, Output Loss: 4.446771129096305e-08\n",
      "Iteration 98: Total Loss: 1.2151768207550049, Expl Loss: 1.1661467798351755e-11, Output Loss: 4.903012040813337e-08\n",
      "Iteration 99: Total Loss: 1.1992988586425781, Expl Loss: 1.1542053771074201e-11, Output Loss: 4.509356088533423e-08\n",
      "Iteration 100: Total Loss: 1.183856725692749, Expl Loss: 1.1409046450638893e-11, Output Loss: 4.295209876659101e-08\n",
      "Iteration 101: Total Loss: 1.1693286895751953, Expl Loss: 1.1284680655199164e-11, Output Loss: 4.0860609118453795e-08\n",
      "Iteration 102: Total Loss: 1.1588503122329712, Expl Loss: 1.116826769953505e-11, Output Loss: 4.20235792830681e-08\n",
      "Iteration 103: Total Loss: 1.1488107442855835, Expl Loss: 1.1046292353045217e-11, Output Loss: 4.4181557967704066e-08\n",
      "Iteration 104: Total Loss: 1.1383963823318481, Expl Loss: 1.0929821284144658e-11, Output Loss: 4.541431408711105e-08\n",
      "Iteration 105: Total Loss: 1.1275519132614136, Expl Loss: 1.0810352613077612e-11, Output Loss: 4.651662521837352e-08\n",
      "Iteration 106: Total Loss: 1.1124745607376099, Expl Loss: 1.0693823430940608e-11, Output Loss: 4.309227108478808e-08\n",
      "Iteration 107: Total Loss: 1.099438190460205, Expl Loss: 1.0584091762744219e-11, Output Loss: 4.102894024526904e-08\n",
      "Iteration 108: Total Loss: 1.0873130559921265, Expl Loss: 1.0487572615902607e-11, Output Loss: 3.8555857173605546e-08\n",
      "Iteration 109: Total Loss: 1.0761559009552002, Expl Loss: 1.0382960116683826e-11, Output Loss: 3.7859972934484176e-08\n",
      "Iteration 110: Total Loss: 1.0660738945007324, Expl Loss: 1.028649040946128e-11, Output Loss: 3.742492182823298e-08\n",
      "Iteration 111: Total Loss: 1.057862639427185, Expl Loss: 1.0201621665484328e-11, Output Loss: 3.7700566224430077e-08\n",
      "Iteration 112: Total Loss: 1.0492069721221924, Expl Loss: 1.0102314818016822e-11, Output Loss: 3.8975429106358206e-08\n",
      "Iteration 113: Total Loss: 1.044216275215149, Expl Loss: 1.0004503302185608e-11, Output Loss: 4.376600415412213e-08\n",
      "Iteration 114: Total Loss: 1.0504670143127441, Expl Loss: 9.916035874357743e-12, Output Loss: 5.886345633143719e-08\n",
      "Iteration 115: Total Loss: 1.0878700017929077, Expl Loss: 9.835139647140778e-12, Output Loss: 1.0435601183189647e-07\n",
      "Iteration 116: Total Loss: 1.2476527690887451, Expl Loss: 9.792865303392961e-12, Output Loss: 2.6836630695470376e-07\n",
      "Iteration 117: Total Loss: 1.5071134567260742, Expl Loss: 9.892604097005986e-12, Output Loss: 5.178531523597485e-07\n",
      "Iteration 118: Total Loss: 1.4448102712631226, Expl Loss: 9.706910622520049e-12, Output Loss: 4.741192185520049e-07\n",
      "Iteration 119: Total Loss: 1.0403389930725098, Expl Loss: 9.63190638358924e-12, Output Loss: 7.714837124694895e-08\n",
      "Iteration 120: Total Loss: 1.2987596988677979, Expl Loss: 9.789899793610779e-12, Output Loss: 3.197697537871136e-07\n",
      "Iteration 121: Total Loss: 1.0987459421157837, Expl Loss: 9.694007749305733e-12, Output Loss: 1.2934513904383493e-07\n",
      "Iteration 122: Total Loss: 1.1531593799591064, Expl Loss: 9.70844498543455e-12, Output Loss: 1.8231480680697132e-07\n",
      "Iteration 123: Total Loss: 1.087966799736023, Expl Loss: 9.672174519637089e-12, Output Loss: 1.207493340871224e-07\n",
      "Iteration 124: Total Loss: 1.089173436164856, Expl Loss: 9.715092445794493e-12, Output Loss: 1.1766418595016148e-07\n",
      "Iteration 125: Total Loss: 1.062585711479187, Expl Loss: 9.588397784088265e-12, Output Loss: 1.0374596115525492e-07\n",
      "Iteration 126: Total Loss: 1.0493220090866089, Expl Loss: 9.613240758987729e-12, Output Loss: 8.799798933978309e-08\n",
      "Iteration 127: Total Loss: 1.0361378192901611, Expl Loss: 9.509864250245581e-12, Output Loss: 8.515145566434512e-08\n",
      "Iteration 128: Total Loss: 1.0194554328918457, Expl Loss: 9.43703361983017e-12, Output Loss: 7.575212634947093e-08\n",
      "Iteration 129: Total Loss: 1.0043296813964844, Expl Loss: 9.38260146660097e-12, Output Loss: 6.606953206755861e-08\n",
      "Iteration 130: Total Loss: 0.9960994124412537, Expl Loss: 9.329902302124271e-12, Output Loss: 6.310920497298866e-08\n",
      "Iteration 131: Total Loss: 0.9922863245010376, Expl Loss: 9.19127794707375e-12, Output Loss: 7.31585387825362e-08\n",
      "Iteration 132: Total Loss: 0.9632022380828857, Expl Loss: 9.081567962920811e-12, Output Loss: 5.504551481294584e-08\n",
      "Iteration 133: Total Loss: 0.9689004421234131, Expl Loss: 9.027044736709122e-12, Output Loss: 6.61959944636692e-08\n",
      "Iteration 134: Total Loss: 0.9438055157661438, Expl Loss: 8.914517561631197e-12, Output Loss: 5.235379418877528e-08\n",
      "Iteration 135: Total Loss: 0.9435139894485474, Expl Loss: 8.857873635970126e-12, Output Loss: 5.7726634139498856e-08\n",
      "Iteration 136: Total Loss: 0.9362468123435974, Expl Loss: 8.806102548553074e-12, Output Loss: 5.5636590445828915e-08\n",
      "Iteration 137: Total Loss: 0.9153894782066345, Expl Loss: 8.705980381051859e-12, Output Loss: 4.4791487852080536e-08\n",
      "Iteration 138: Total Loss: 0.9190027713775635, Expl Loss: 8.636820425511615e-12, Output Loss: 5.5320736436215157e-08\n",
      "Iteration 139: Total Loss: 0.8999528884887695, Expl Loss: 8.556132365111768e-12, Output Loss: 4.433967859540644e-08\n",
      "Iteration 140: Total Loss: 0.897417426109314, Expl Loss: 8.510958431073856e-12, Output Loss: 4.632156702655266e-08\n",
      "Iteration 141: Total Loss: 0.8879621028900146, Expl Loss: 8.42417281765595e-12, Output Loss: 4.5544833682242825e-08\n",
      "Iteration 142: Total Loss: 0.8730898499488831, Expl Loss: 8.342126468774413e-12, Output Loss: 3.8877246311130875e-08\n",
      "Iteration 143: Total Loss: 0.8714499473571777, Expl Loss: 8.276128046769138e-12, Output Loss: 4.3837104612975963e-08\n"
     ]
    },
    {
     "name": "stdout",
     "output_type": "stream",
     "text": [
      "Iteration 144: Total Loss: 0.8572586178779602, Expl Loss: 8.195302943214688e-12, Output Loss: 3.7728380419821406e-08\n",
      "Iteration 145: Total Loss: 0.8527095317840576, Expl Loss: 8.12856379428517e-12, Output Loss: 3.9853169653270015e-08\n",
      "Iteration 146: Total Loss: 0.8438606262207031, Expl Loss: 8.076793574229857e-12, Output Loss: 3.6181265983259436e-08\n",
      "Iteration 147: Total Loss: 0.8410282731056213, Expl Loss: 8.02986670211947e-12, Output Loss: 3.804157344688974e-08\n",
      "Iteration 148: Total Loss: 0.8312413096427917, Expl Loss: 7.954127807796585e-12, Output Loss: 3.582853125294605e-08\n",
      "Iteration 149: Total Loss: 0.8249569535255432, Expl Loss: 7.884639989519382e-12, Output Loss: 3.649296687058268e-08\n",
      "Iteration 150: Total Loss: 0.8172633051872253, Expl Loss: 7.818288551286745e-12, Output Loss: 3.543448201526189e-08\n",
      "Iteration 151: Total Loss: 0.8103989362716675, Expl Loss: 7.77428468823338e-12, Output Loss: 3.2970497443329805e-08\n",
      "Iteration 152: Total Loss: 0.8016872406005859, Expl Loss: 7.666025800268095e-12, Output Loss: 3.508469248458823e-08\n",
      "Iteration 153: Total Loss: 0.7944108247756958, Expl Loss: 7.613202603062863e-12, Output Loss: 3.309057916567326e-08\n",
      "Iteration 154: Total Loss: 0.7885810136795044, Expl Loss: 7.552857644865796e-12, Output Loss: 3.329530073870046e-08\n",
      "Iteration 155: Total Loss: 0.779503345489502, Expl Loss: 7.481065246450758e-12, Output Loss: 3.139686199915559e-08\n",
      "Iteration 156: Total Loss: 0.7753509283065796, Expl Loss: 7.424521067389556e-12, Output Loss: 3.2898824997573684e-08\n",
      "Iteration 157: Total Loss: 0.7660254836082458, Expl Loss: 7.351902940599953e-12, Output Loss: 3.083520638824666e-08\n",
      "Iteration 158: Total Loss: 0.7622216939926147, Expl Loss: 7.311288727218646e-12, Output Loss: 3.109279944624177e-08\n",
      "Iteration 159: Total Loss: 0.7532599568367004, Expl Loss: 7.233996821703892e-12, Output Loss: 2.9860334649356446e-08\n",
      "Iteration 160: Total Loss: 0.7495517730712891, Expl Loss: 7.1949772528778766e-12, Output Loss: 3.005403215183833e-08\n",
      "Iteration 161: Total Loss: 0.742767333984375, Expl Loss: 7.1361584176588e-12, Output Loss: 2.915149899251901e-08\n",
      "Iteration 162: Total Loss: 0.7377262711524963, Expl Loss: 7.083889464604143e-12, Output Loss: 2.933734855048442e-08\n",
      "Iteration 163: Total Loss: 0.7317991852760315, Expl Loss: 7.033740343637129e-12, Output Loss: 2.8425171549884e-08\n",
      "Iteration 164: Total Loss: 0.7268146872520447, Expl Loss: 6.982773734232062e-12, Output Loss: 2.8537320062582694e-08\n",
      "Iteration 165: Total Loss: 0.7215234041213989, Expl Loss: 6.935018965342765e-12, Output Loss: 2.8021506892628167e-08\n",
      "Iteration 166: Total Loss: 0.7182450294494629, Expl Loss: 6.903791774370838e-12, Output Loss: 2.7865903362567224e-08\n",
      "Iteration 167: Total Loss: 0.7121262550354004, Expl Loss: 6.847872095760987e-12, Output Loss: 2.7339014607719037e-08\n",
      "Iteration 168: Total Loss: 0.7072380781173706, Expl Loss: 6.797912059652855e-12, Output Loss: 2.7446864336866383e-08\n",
      "Iteration 169: Total Loss: 0.7015735507011414, Expl Loss: 6.7393278457839045e-12, Output Loss: 2.764075368588692e-08\n",
      "Iteration 170: Total Loss: 0.6982082724571228, Expl Loss: 6.697933006838408e-12, Output Loss: 2.8414989472480556e-08\n",
      "Iteration 171: Total Loss: 0.6944226026535034, Expl Loss: 6.632849217785841e-12, Output Loss: 3.1137684430859736e-08\n",
      "Iteration 172: Total Loss: 0.6981837153434753, Expl Loss: 6.5954928150924186e-12, Output Loss: 3.863442188389854e-08\n",
      "Iteration 173: Total Loss: 0.7244371175765991, Expl Loss: 6.571689806916803e-12, Output Loss: 6.726813239765761e-08\n",
      "Iteration 174: Total Loss: 0.8025959730148315, Expl Loss: 6.5436471345659e-12, Output Loss: 1.482312654843554e-07\n",
      "Iteration 175: Total Loss: 0.9036742448806763, Expl Loss: 6.51925518777019e-12, Output Loss: 2.51748758728354e-07\n",
      "Iteration 176: Total Loss: 0.8785147666931152, Expl Loss: 6.6022356852435404e-12, Output Loss: 2.18291191345088e-07\n",
      "Iteration 177: Total Loss: 0.7105863690376282, Expl Loss: 6.485145753742927e-12, Output Loss: 6.207181257877892e-08\n",
      "Iteration 178: Total Loss: 0.7159562110900879, Expl Loss: 6.4581031494759245e-12, Output Loss: 7.014592284804166e-08\n",
      "Iteration 179: Total Loss: 0.7710791826248169, Expl Loss: 6.512288538290667e-12, Output Loss: 1.19850341206984e-07\n",
      "Iteration 180: Total Loss: 0.6761277318000793, Expl Loss: 6.420299621806569e-12, Output Loss: 3.4097794809895277e-08\n",
      "Iteration 181: Total Loss: 0.7312637567520142, Expl Loss: 6.450815576153346e-12, Output Loss: 8.618221158940287e-08\n",
      "Iteration 182: Total Loss: 0.7102231979370117, Expl Loss: 6.375633528066249e-12, Output Loss: 7.265983015258826e-08\n",
      "Iteration 183: Total Loss: 0.6780722737312317, Expl Loss: 6.4186043632896705e-12, Output Loss: 3.6211837084465515e-08\n",
      "Iteration 184: Total Loss: 0.7016928791999817, Expl Loss: 6.324539416485697e-12, Output Loss: 6.923895057298068e-08\n",
      "Iteration 185: Total Loss: 0.6665693521499634, Expl Loss: 6.348982103943079e-12, Output Loss: 3.1671167022295776e-08\n",
      "Iteration 186: Total Loss: 0.6842295527458191, Expl Loss: 6.277232639934072e-12, Output Loss: 5.6506301859826635e-08\n",
      "Iteration 187: Total Loss: 0.6648756265640259, Expl Loss: 6.268767623052174e-12, Output Loss: 3.799884851218849e-08\n",
      "Iteration 188: Total Loss: 0.6621958613395691, Expl Loss: 6.224229898849076e-12, Output Loss: 3.9772878324129124e-08\n",
      "Iteration 189: Total Loss: 0.6613641977310181, Expl Loss: 6.181312406372541e-12, Output Loss: 4.3233004731746405e-08\n",
      "Iteration 190: Total Loss: 0.6453617215156555, Expl Loss: 6.152532042863479e-12, Output Loss: 3.010853077967113e-08\n",
      "Iteration 191: Total Loss: 0.6518347263336182, Expl Loss: 6.099429555178615e-12, Output Loss: 4.1891766500157246e-08\n",
      "Iteration 192: Total Loss: 0.6363743543624878, Expl Loss: 6.073251710564387e-12, Output Loss: 2.9049209260278985e-08\n",
      "Iteration 193: Total Loss: 0.6446153521537781, Expl Loss: 6.0690181179212654e-12, Output Loss: 3.77135336293577e-08\n",
      "Iteration 194: Total Loss: 0.6287437081336975, Expl Loss: 5.983488010619098e-12, Output Loss: 3.0394922134746594e-08\n",
      "Iteration 195: Total Loss: 0.6327457427978516, Expl Loss: 5.987061107298741e-12, Output Loss: 3.403961557069124e-08\n",
      "Iteration 196: Total Loss: 0.6204472780227661, Expl Loss: 5.914809440843438e-12, Output Loss: 2.896638484628511e-08\n",
      "Iteration 197: Total Loss: 0.6208897829055786, Expl Loss: 5.9058400531109e-12, Output Loss: 3.030581297025492e-08\n",
      "Iteration 198: Total Loss: 0.6146654486656189, Expl Loss: 5.861173092008842e-12, Output Loss: 2.8548152286589357e-08\n",
      "Iteration 199: Total Loss: 0.6121256351470947, Expl Loss: 5.8315392445495995e-12, Output Loss: 2.897174589122642e-08\n",
      "Iteration 200: Total Loss: 0.6072468757629395, Expl Loss: 5.813536717996781e-12, Output Loss: 2.5893239552488012e-08\n",
      "Iteration 201: Total Loss: 0.6054983139038086, Expl Loss: 5.75519406437186e-12, Output Loss: 2.997894554823688e-08\n",
      "Iteration 202: Total Loss: 0.5966091752052307, Expl Loss: 5.7210612115776716e-12, Output Loss: 2.4503060913616537e-08\n",
      "Iteration 203: Total Loss: 0.596615195274353, Expl Loss: 5.696356147194548e-12, Output Loss: 2.697955636676852e-08\n",
      "Iteration 204: Total Loss: 0.5914747714996338, Expl Loss: 5.660289511405514e-12, Output Loss: 2.544580368635252e-08\n",
      "Iteration 205: Total Loss: 0.5871005654335022, Expl Loss: 5.624961867817246e-12, Output Loss: 2.460440029494748e-08\n",
      "Iteration 206: Total Loss: 0.5845732688903809, Expl Loss: 5.598264039841094e-12, Output Loss: 2.4746910298745206e-08\n",
      "Iteration 207: Total Loss: 0.5813019871711731, Expl Loss: 5.567535148187641e-12, Output Loss: 2.4548445054506374e-08\n",
      "Iteration 208: Total Loss: 0.5765882730484009, Expl Loss: 5.532142018788155e-12, Output Loss: 2.337408666619467e-08\n",
      "Iteration 209: Total Loss: 0.5744780898094177, Expl Loss: 5.506078665923342e-12, Output Loss: 2.3870205367870767e-08\n",
      "Iteration 210: Total Loss: 0.5712889432907104, Expl Loss: 5.474276414119128e-12, Output Loss: 2.3861316478246408e-08\n",
      "Iteration 211: Total Loss: 0.5664646029472351, Expl Loss: 5.436106859796341e-12, Output Loss: 2.285390365841522e-08\n",
      "Iteration 212: Total Loss: 0.5629899501800537, Expl Loss: 5.403424669508938e-12, Output Loss: 2.2647480335535874e-08\n",
      "Iteration 213: Total Loss: 0.5608561635017395, Expl Loss: 5.3769289368177375e-12, Output Loss: 2.316326863649465e-08\n",
      "Iteration 214: Total Loss: 0.5568442344665527, Expl Loss: 5.340306322154653e-12, Output Loss: 2.281358923994503e-08\n",
      "Iteration 215: Total Loss: 0.5532816648483276, Expl Loss: 5.3144741211930135e-12, Output Loss: 2.1834278385313155e-08\n"
     ]
    },
    {
     "name": "stdout",
     "output_type": "stream",
     "text": [
      "Iteration 216: Total Loss: 0.5509031414985657, Expl Loss: 5.28557796489193e-12, Output Loss: 2.2345362893361198e-08\n",
      "Iteration 217: Total Loss: 0.5478892922401428, Expl Loss: 5.2552372176162265e-12, Output Loss: 2.2365549412484143e-08\n",
      "Iteration 218: Total Loss: 0.5465530157089233, Expl Loss: 5.232713568004144e-12, Output Loss: 2.3281701899691143e-08\n",
      "Iteration 219: Total Loss: 0.5419033169746399, Expl Loss: 5.203725037677964e-12, Output Loss: 2.1530814464654213e-08\n",
      "Iteration 220: Total Loss: 0.5398134589195251, Expl Loss: 5.1822374516619085e-12, Output Loss: 2.1589723786519244e-08\n",
      "Iteration 221: Total Loss: 0.536618709564209, Expl Loss: 5.155674498436014e-12, Output Loss: 2.105130292306967e-08\n",
      "Iteration 222: Total Loss: 0.5339191555976868, Expl Loss: 5.125202779537874e-12, Output Loss: 2.1398886218548796e-08\n",
      "Iteration 223: Total Loss: 0.5306057333946228, Expl Loss: 5.094915808689926e-12, Output Loss: 2.1114148651690812e-08\n",
      "Iteration 224: Total Loss: 0.5278897285461426, Expl Loss: 5.064228984080765e-12, Output Loss: 2.1466854960294768e-08\n",
      "Iteration 225: Total Loss: 0.525015115737915, Expl Loss: 5.034055203939625e-12, Output Loss: 2.160960477226581e-08\n",
      "Iteration 226: Total Loss: 0.5232762694358826, Expl Loss: 5.0142420597587556e-12, Output Loss: 2.1852050835491355e-08\n",
      "Iteration 227: Total Loss: 0.5221412777900696, Expl Loss: 4.9885985099751284e-12, Output Loss: 2.3281403471742124e-08\n",
      "Iteration 228: Total Loss: 0.5218072533607483, Expl Loss: 4.965163696857289e-12, Output Loss: 2.529093023895257e-08\n",
      "Iteration 229: Total Loss: 0.5231570601463318, Expl Loss: 4.931442840888645e-12, Output Loss: 3.0012781593313775e-08\n",
      "Iteration 230: Total Loss: 0.5298412442207336, Expl Loss: 4.919360925559335e-12, Output Loss: 3.790515634705116e-08\n",
      "Iteration 231: Total Loss: 0.5395367741584778, Expl Loss: 4.895711874092212e-12, Output Loss: 4.996558544689833e-08\n",
      "Iteration 232: Total Loss: 0.5452445149421692, Expl Loss: 4.879494811677043e-12, Output Loss: 5.729507535079392e-08\n",
      "Iteration 233: Total Loss: 0.5315203070640564, Expl Loss: 4.856553961068988e-12, Output Loss: 4.586489410485228e-08\n",
      "Iteration 234: Total Loss: 0.5083639025688171, Expl Loss: 4.836566043497914e-12, Output Loss: 2.4707317081151814e-08\n",
      "Iteration 235: Total Loss: 0.5032839179039001, Expl Loss: 4.80629034835256e-12, Output Loss: 2.2654905507124568e-08\n",
      "Iteration 236: Total Loss: 0.5161108374595642, Expl Loss: 4.801463046599785e-12, Output Loss: 3.596457176513468e-08\n",
      "Iteration 237: Total Loss: 0.5148406624794006, Expl Loss: 4.780024032841057e-12, Output Loss: 3.683824445488426e-08\n",
      "Iteration 238: Total Loss: 0.4968160390853882, Expl Loss: 4.746359121704513e-12, Output Loss: 2.2180140391014902e-08\n",
      "Iteration 239: Total Loss: 0.4971599280834198, Expl Loss: 4.7314539439180514e-12, Output Loss: 2.4014523702931e-08\n",
      "Iteration 240: Total Loss: 0.5027356147766113, Expl Loss: 4.7194635352521e-12, Output Loss: 3.0789255589525055e-08\n",
      "Iteration 241: Total Loss: 0.49477919936180115, Expl Loss: 4.689531749035858e-12, Output Loss: 2.5826023986041946e-08\n",
      "Iteration 242: Total Loss: 0.4872664511203766, Expl Loss: 4.667397544844132e-12, Output Loss: 2.0526710997614828e-08\n",
      "Iteration 243: Total Loss: 0.4937918186187744, Expl Loss: 4.664991917063821e-12, Output Loss: 2.7292633930642296e-08\n",
      "Iteration 244: Total Loss: 0.490244060754776, Expl Loss: 4.65691200879359e-12, Output Loss: 2.455286818303648e-08\n",
      "Iteration 245: Total Loss: 0.48095083236694336, Expl Loss: 4.611353833505749e-12, Output Loss: 1.981544883733477e-08\n",
      "Iteration 246: Total Loss: 0.4841058850288391, Expl Loss: 4.5988282626474586e-12, Output Loss: 2.422306621951975e-08\n",
      "Iteration 247: Total Loss: 0.4806291460990906, Expl Loss: 4.569182705804753e-12, Output Loss: 2.3710885699301798e-08\n",
      "Iteration 248: Total Loss: 0.47525957226753235, Expl Loss: 4.554696030056871e-12, Output Loss: 1.978997410390093e-08\n",
      "Iteration 249: Total Loss: 0.47488927841186523, Expl Loss: 4.534093586694432e-12, Output Loss: 2.1479944933844308e-08\n",
      "Iteration 250: Total Loss: 0.4737206995487213, Expl Loss: 4.516067641374688e-12, Output Loss: 2.211395155882201e-08\n",
      "Iteration 251: Total Loss: 0.470086932182312, Expl Loss: 4.494214896066939e-12, Output Loss: 2.066543380863095e-08\n",
      "Iteration 252: Total Loss: 0.4665173292160034, Expl Loss: 4.471995256744021e-12, Output Loss: 1.9317818455988345e-08\n",
      "Iteration 253: Total Loss: 0.4674612581729889, Expl Loss: 4.459813594814843e-12, Output Loss: 2.1479893419495966e-08\n",
      "Iteration 254: Total Loss: 0.4646402895450592, Expl Loss: 4.433271024589791e-12, Output Loss: 2.1313198317329807e-08\n",
      "Iteration 255: Total Loss: 0.46206018328666687, Expl Loss: 4.41838276035722e-12, Output Loss: 2.022192724382421e-08\n",
      "Iteration 256: Total Loss: 0.4589708149433136, Expl Loss: 4.40038977478352e-12, Output Loss: 1.8931832101998225e-08\n",
      "Iteration 257: Total Loss: 0.45764419436454773, Expl Loss: 4.373610414803997e-12, Output Loss: 2.0283168922219375e-08\n",
      "Iteration 258: Total Loss: 0.4586665630340576, Expl Loss: 4.370324848540497e-12, Output Loss: 2.1634097180367462e-08\n",
      "Iteration 259: Total Loss: 0.4553655683994293, Expl Loss: 4.345850068698809e-12, Output Loss: 2.0780554166321963e-08\n",
      "Iteration 260: Total Loss: 0.45262449979782104, Expl Loss: 4.327007935983618e-12, Output Loss: 1.9923719563053055e-08\n",
      "Iteration 261: Total Loss: 0.44852936267852783, Expl Loss: 4.296176695645082e-12, Output Loss: 1.891167933365523e-08\n",
      "Iteration 262: Total Loss: 0.44668692350387573, Expl Loss: 4.282707001534991e-12, Output Loss: 1.8416240976648623e-08\n",
      "Iteration 263: Total Loss: 0.445638507604599, Expl Loss: 4.270429929814634e-12, Output Loss: 1.859552867244929e-08\n",
      "Iteration 264: Total Loss: 0.44464001059532166, Expl Loss: 4.250908652858598e-12, Output Loss: 1.9549164065324476e-08\n",
      "Iteration 265: Total Loss: 0.4459570050239563, Expl Loss: 4.246912283650817e-12, Output Loss: 2.1265764260647302e-08\n",
      "Iteration 266: Total Loss: 0.44777029752731323, Expl Loss: 4.222221964417239e-12, Output Loss: 2.5548112958517777e-08\n",
      "Iteration 267: Total Loss: 0.4570397138595581, Expl Loss: 4.212948566395536e-12, Output Loss: 3.574487905666501e-08\n",
      "Iteration 268: Total Loss: 0.4760156571865082, Expl Loss: 4.21620204027473e-12, Output Loss: 5.4395464132994675e-08\n",
      "Iteration 269: Total Loss: 0.500907301902771, Expl Loss: 4.187874439592898e-12, Output Loss: 8.211983981709636e-08\n",
      "Iteration 270: Total Loss: 0.5060865879058838, Expl Loss: 4.192179589579403e-12, Output Loss: 8.686863139928391e-08\n",
      "Iteration 271: Total Loss: 0.46632328629493713, Expl Loss: 4.1959170513083954e-12, Output Loss: 4.673159637036406e-08\n",
      "Iteration 272: Total Loss: 0.4359532594680786, Expl Loss: 4.167019160283836e-12, Output Loss: 1.9251332972203272e-08\n",
      "Iteration 273: Total Loss: 0.45953911542892456, Expl Loss: 4.158865959946745e-12, Output Loss: 4.365254113736228e-08\n",
      "Iteration 274: Total Loss: 0.46124231815338135, Expl Loss: 4.144627783336796e-12, Output Loss: 4.677955089960051e-08\n",
      "Iteration 275: Total Loss: 0.4365183711051941, Expl Loss: 4.1307669090828725e-12, Output Loss: 2.3441693031145405e-08\n",
      "Iteration 276: Total Loss: 0.44002366065979004, Expl Loss: 4.1121476883343444e-12, Output Loss: 2.880887706169233e-08\n",
      "Iteration 277: Total Loss: 0.4471813440322876, Expl Loss: 4.112995100752359e-12, Output Loss: 3.588184682712381e-08\n",
      "Iteration 278: Total Loss: 0.432149738073349, Expl Loss: 4.101061937961115e-12, Output Loss: 2.204354743184922e-08\n",
      "Iteration 279: Total Loss: 0.4336298108100891, Expl Loss: 4.082636138880158e-12, Output Loss: 2.536621401816319e-08\n",
      "Iteration 280: Total Loss: 0.43572598695755005, Expl Loss: 4.06728947396906e-12, Output Loss: 2.8997048318046836e-08\n",
      "Iteration 281: Total Loss: 0.42555373907089233, Expl Loss: 4.064291004440834e-12, Output Loss: 1.9124652084201443e-08\n",
      "Iteration 282: Total Loss: 0.4279528558254242, Expl Loss: 4.030204121818759e-12, Output Loss: 2.4932441888836365e-08\n",
      "Iteration 283: Total Loss: 0.42577189207077026, Expl Loss: 4.017690260343931e-12, Output Loss: 2.4002870802064535e-08\n",
      "Iteration 284: Total Loss: 0.4176199734210968, Expl Loss: 3.986345975537375e-12, Output Loss: 1.8985401695204018e-08\n",
      "Iteration 285: Total Loss: 0.42246678471565247, Expl Loss: 3.980708124240451e-12, Output Loss: 2.4395964359769096e-08\n",
      "Iteration 286: Total Loss: 0.4177299439907074, Expl Loss: 3.961216337583506e-12, Output Loss: 2.1608315137200407e-08\n",
      "Iteration 287: Total Loss: 0.4130074083805084, Expl Loss: 3.9413099520158035e-12, Output Loss: 1.8876441743032046e-08\n"
     ]
    },
    {
     "name": "stdout",
     "output_type": "stream",
     "text": [
      "Iteration 288: Total Loss: 0.41730478405952454, Expl Loss: 3.938333166531027e-12, Output Loss: 2.347147542991479e-08\n",
      "Iteration 289: Total Loss: 0.40982913970947266, Expl Loss: 3.909782220201663e-12, Output Loss: 1.8850913718893025e-08\n",
      "Iteration 290: Total Loss: 0.40941810607910156, Expl Loss: 3.899041246119284e-12, Output Loss: 1.9513988647190672e-08\n",
      "Iteration 291: Total Loss: 0.40909361839294434, Expl Loss: 3.885748927484611e-12, Output Loss: 2.051870495733965e-08\n",
      "Iteration 292: Total Loss: 0.4043835699558258, Expl Loss: 3.8673400419575454e-12, Output Loss: 1.764955470662244e-08\n",
      "Iteration 293: Total Loss: 0.4044743478298187, Expl Loss: 3.853995247937725e-12, Output Loss: 1.9074830603926785e-08\n",
      "Iteration 294: Total Loss: 0.40352851152420044, Expl Loss: 3.845315559025675e-12, Output Loss: 1.8996969330942193e-08\n",
      "Iteration 295: Total Loss: 0.4015997350215912, Expl Loss: 3.830870950322085e-12, Output Loss: 1.8512640309609196e-08\n",
      "Iteration 296: Total Loss: 0.4008410573005676, Expl Loss: 3.82190893516432e-12, Output Loss: 1.8650160527045045e-08\n",
      "Iteration 297: Total Loss: 0.3977108597755432, Expl Loss: 3.798121105819119e-12, Output Loss: 1.7898770465762937e-08\n",
      "Iteration 298: Total Loss: 0.39649486541748047, Expl Loss: 3.789563281231256e-12, Output Loss: 1.753853773323044e-08\n",
      "Iteration 299: Total Loss: 0.39528268575668335, Expl Loss: 3.771998338675253e-12, Output Loss: 1.8082847219602627e-08\n",
      "Iteration 300: Total Loss: 0.3939131498336792, Expl Loss: 3.762721904887467e-12, Output Loss: 1.7640967797660778e-08\n",
      "Iteration 301: Total Loss: 0.3920203745365143, Expl Loss: 3.7531219451714115e-12, Output Loss: 1.6708186834080152e-08\n",
      "Iteration 302: Total Loss: 0.39160987734794617, Expl Loss: 3.745894653489623e-12, Output Loss: 1.7020438392023607e-08\n",
      "Iteration 303: Total Loss: 0.39052659273147583, Expl Loss: 3.730106501453889e-12, Output Loss: 1.7515953132374307e-08\n",
      "Iteration 304: Total Loss: 0.38822636008262634, Expl Loss: 3.717400953034966e-12, Output Loss: 1.6486282561345433e-08\n",
      "Iteration 305: Total Loss: 0.38713395595550537, Expl Loss: 3.705820372790214e-12, Output Loss: 1.6551918946561273e-08\n",
      "Iteration 306: Total Loss: 0.3867606222629547, Expl Loss: 3.7022555160470816e-12, Output Loss: 1.6535082636437437e-08\n",
      "Iteration 307: Total Loss: 0.3832905888557434, Expl Loss: 3.669774553682892e-12, Output Loss: 1.6313128625711215e-08\n",
      "Iteration 308: Total Loss: 0.38216519355773926, Expl Loss: 3.65862505222192e-12, Output Loss: 1.6302712069204972e-08\n",
      "Iteration 309: Total Loss: 0.3812808096408844, Expl Loss: 3.644923772527786e-12, Output Loss: 1.6788442636084255e-08\n",
      "Iteration 310: Total Loss: 0.38275331258773804, Expl Loss: 3.652065629078383e-12, Output Loss: 1.7546756936326346e-08\n",
      "Iteration 311: Total Loss: 0.3824911415576935, Expl Loss: 3.6232555584297943e-12, Output Loss: 2.0165590086662633e-08\n",
      "Iteration 312: Total Loss: 0.3881584107875824, Expl Loss: 3.612698248195434e-12, Output Loss: 2.6888583803952315e-08\n",
      "Iteration 313: Total Loss: 0.41096362471580505, Expl Loss: 3.632562783559279e-12, Output Loss: 4.770734207681926e-08\n",
      "Iteration 314: Total Loss: 0.4866922199726105, Expl Loss: 3.7009852647817976e-12, Output Loss: 1.1659368226446531e-07\n",
      "Iteration 315: Total Loss: 0.664850115776062, Expl Loss: 3.721302779813307e-12, Output Loss: 2.927198750057869e-07\n",
      "Iteration 316: Total Loss: 0.8648363351821899, Expl Loss: 4.023393163771205e-12, Output Loss: 4.6249698471001466e-07\n",
      "Iteration 317: Total Loss: 0.6288883090019226, Expl Loss: 3.808143904382444e-12, Output Loss: 2.4807391696413106e-07\n",
      "Iteration 318: Total Loss: 0.4251815676689148, Expl Loss: 3.720468811502231e-12, Output Loss: 5.313469131351667e-08\n",
      "Iteration 319: Total Loss: 0.6997567415237427, Expl Loss: 3.961558945470012e-12, Output Loss: 3.0360081382241333e-07\n",
      "Iteration 320: Total Loss: 0.6339243650436401, Expl Loss: 3.998560163531728e-12, Output Loss: 2.3406835225614486e-07\n",
      "Iteration 321: Total Loss: 0.6421176195144653, Expl Loss: 4.175019271274172e-12, Output Loss: 2.2461566118181509e-07\n",
      "Iteration 322: Total Loss: 0.5672717094421387, Expl Loss: 4.306113625396346e-12, Output Loss: 1.366603896713059e-07\n",
      "Iteration 323: Total Loss: 0.5534367561340332, Expl Loss: 4.343903275277894e-12, Output Loss: 1.1904642605031768e-07\n",
      "Iteration 324: Total Loss: 0.5957520008087158, Expl Loss: 4.550876602643639e-12, Output Loss: 1.4066436904158763e-07\n",
      "Iteration 325: Total Loss: 0.5053195953369141, Expl Loss: 4.354423072117086e-12, Output Loss: 6.987730216678756e-08\n",
      "Iteration 326: Total Loss: 0.5525169968605042, Expl Loss: 4.6463332313562145e-12, Output Loss: 8.788369143530872e-08\n",
      "Iteration 327: Total Loss: 0.4915705621242523, Expl Loss: 4.474459431441646e-12, Output Loss: 4.4124639941856e-08\n",
      "Iteration 328: Total Loss: 0.5159963369369507, Expl Loss: 4.5125153613767566e-12, Output Loss: 6.474483171814427e-08\n",
      "Iteration 329: Total Loss: 0.4994681179523468, Expl Loss: 4.403867895352853e-12, Output Loss: 5.908135847221274e-08\n",
      "Iteration 330: Total Loss: 0.5056294798851013, Expl Loss: 4.436808559438177e-12, Output Loss: 6.194861867925283e-08\n",
      "Iteration 331: Total Loss: 0.49933984875679016, Expl Loss: 4.249026911568032e-12, Output Loss: 7.44371604355365e-08\n",
      "Iteration 332: Total Loss: 0.47469833493232727, Expl Loss: 4.3090002052603715e-12, Output Loss: 4.3798333848599214e-08\n",
      "Iteration 333: Total Loss: 0.4722456932067871, Expl Loss: 4.203031152283376e-12, Output Loss: 5.194260310759091e-08\n",
      "Iteration 334: Total Loss: 0.4556030035018921, Expl Loss: 4.094355930683857e-12, Output Loss: 4.616742188545686e-08\n",
      "Iteration 335: Total Loss: 0.4807606041431427, Expl Loss: 4.175812039902693e-12, Output Loss: 6.317939238442705e-08\n",
      "Iteration 336: Total Loss: 0.45876389741897583, Expl Loss: 4.137469446913178e-12, Output Loss: 4.501696082570561e-08\n",
      "Iteration 337: Total Loss: 0.44749876856803894, Expl Loss: 4.057742423319022e-12, Output Loss: 4.172453316186875e-08\n",
      "Iteration 338: Total Loss: 0.442020058631897, Expl Loss: 4.114427982343516e-12, Output Loss: 3.0577275822452066e-08\n",
      "Iteration 339: Total Loss: 0.4354415833950043, Expl Loss: 4.029453853915399e-12, Output Loss: 3.249620661449626e-08\n",
      "Iteration 340: Total Loss: 0.43283504247665405, Expl Loss: 3.926928660719087e-12, Output Loss: 4.014217935832676e-08\n",
      "Iteration 341: Total Loss: 0.44138413667678833, Expl Loss: 3.99144042470545e-12, Output Loss: 4.224011718179099e-08\n",
      "Iteration 342: Total Loss: 0.42821255326271057, Expl Loss: 3.87879008426073e-12, Output Loss: 4.033353562249431e-08\n",
      "Iteration 343: Total Loss: 0.42193207144737244, Expl Loss: 3.8525311413240004e-12, Output Loss: 3.667896919523628e-08\n",
      "Iteration 344: Total Loss: 0.41577985882759094, Expl Loss: 3.8862641403569764e-12, Output Loss: 2.715347235948684e-08\n",
      "Iteration 345: Total Loss: 0.4064364731311798, Expl Loss: 3.830169688356921e-12, Output Loss: 2.3419511663291814e-08\n",
      "Iteration 346: Total Loss: 0.4073660373687744, Expl Loss: 3.753225594899101e-12, Output Loss: 3.2043477204979354e-08\n",
      "Iteration 347: Total Loss: 0.40867340564727783, Expl Loss: 3.767884441951974e-12, Output Loss: 3.188497998962703e-08\n",
      "Iteration 348: Total Loss: 0.39740779995918274, Expl Loss: 3.711448249427152e-12, Output Loss: 2.626297224139762e-08\n",
      "Iteration 349: Total Loss: 0.39027729630470276, Expl Loss: 3.679099993408874e-12, Output Loss: 2.2367284913116237e-08\n",
      "Iteration 350: Total Loss: 0.3930921256542206, Expl Loss: 3.664958527632711e-12, Output Loss: 2.659627007517429e-08\n",
      "Iteration 351: Total Loss: 0.3861565589904785, Expl Loss: 3.619423337430927e-12, Output Loss: 2.4214223515173217e-08\n",
      "Iteration 352: Total Loss: 0.3831321597099304, Expl Loss: 3.595950360396616e-12, Output Loss: 2.3537126025985344e-08\n",
      "Iteration 353: Total Loss: 0.37985801696777344, Expl Loss: 3.5949893235909247e-12, Output Loss: 2.035909218989218e-08\n",
      "Iteration 354: Total Loss: 0.3742043673992157, Expl Loss: 3.5391190846001397e-12, Output Loss: 2.0292459268489438e-08\n",
      "Iteration 355: Total Loss: 0.3731812834739685, Expl Loss: 3.5212410244567227e-12, Output Loss: 2.1057177335137567e-08\n",
      "Iteration 356: Total Loss: 0.3730284571647644, Expl Loss: 3.512393067367503e-12, Output Loss: 2.178915892159239e-08\n",
      "Iteration 357: Total Loss: 0.36904481053352356, Expl Loss: 3.4957410230407326e-12, Output Loss: 1.9470707712798685e-08\n",
      "Iteration 358: Total Loss: 0.3654695451259613, Expl Loss: 3.468217249849581e-12, Output Loss: 1.8647824617801234e-08\n",
      "Iteration 359: Total Loss: 0.36516889929771423, Expl Loss: 3.4537635338477424e-12, Output Loss: 1.979255692674542e-08\n"
     ]
    },
    {
     "name": "stdout",
     "output_type": "stream",
     "text": [
      "Iteration 360: Total Loss: 0.36406493186950684, Expl Loss: 3.442313274704123e-12, Output Loss: 1.983360853330396e-08\n",
      "Iteration 361: Total Loss: 0.36138150095939636, Expl Loss: 3.4298061352827647e-12, Output Loss: 1.8400902135340402e-08\n",
      "Iteration 362: Total Loss: 0.35703837871551514, Expl Loss: 3.3947935608458213e-12, Output Loss: 1.755901202216137e-08\n",
      "Iteration 363: Total Loss: 0.35798636078834534, Expl Loss: 3.3949013305417663e-12, Output Loss: 1.849625519412257e-08\n",
      "Iteration 364: Total Loss: 0.3555419445037842, Expl Loss: 3.365906728683421e-12, Output Loss: 1.8951260116750746e-08\n",
      "Iteration 365: Total Loss: 0.35027921199798584, Expl Loss: 3.326371730144606e-12, Output Loss: 1.764205492804649e-08\n",
      "Iteration 366: Total Loss: 0.35001593828201294, Expl Loss: 3.326294534949925e-12, Output Loss: 1.738650823313037e-08\n",
      "Iteration 367: Total Loss: 0.3492316007614136, Expl Loss: 3.3162832289296285e-12, Output Loss: 1.760326284738767e-08\n",
      "Iteration 368: Total Loss: 0.34719374775886536, Expl Loss: 3.292187703007876e-12, Output Loss: 1.797497084510269e-08\n",
      "Iteration 369: Total Loss: 0.34557822346687317, Expl Loss: 3.2777999064981245e-12, Output Loss: 1.77982339977234e-08\n",
      "Iteration 370: Total Loss: 0.34322187304496765, Expl Loss: 3.260406701566243e-12, Output Loss: 1.71812288840556e-08\n",
      "Iteration 371: Total Loss: 0.34138450026512146, Expl Loss: 3.2465930985270397e-12, Output Loss: 1.6725174134535337e-08\n",
      "Iteration 372: Total Loss: 0.3390151262283325, Expl Loss: 3.2193657462098457e-12, Output Loss: 1.7078557235095104e-08\n",
      "Iteration 373: Total Loss: 0.33659255504608154, Expl Loss: 3.193211103522109e-12, Output Loss: 1.7271464258783453e-08\n",
      "Iteration 374: Total Loss: 0.3364207446575165, Expl Loss: 3.189561462169088e-12, Output Loss: 1.7464607537931442e-08\n",
      "Iteration 375: Total Loss: 0.3343212604522705, Expl Loss: 3.1739628286731048e-12, Output Loss: 1.6924987633615274e-08\n",
      "Iteration 376: Total Loss: 0.33290478587150574, Expl Loss: 3.1636659438005754e-12, Output Loss: 1.6538207248117942e-08\n",
      "Iteration 377: Total Loss: 0.3311585485935211, Expl Loss: 3.151482763988356e-12, Output Loss: 1.601029531173026e-08\n",
      "Iteration 378: Total Loss: 0.32968491315841675, Expl Loss: 3.135578168639297e-12, Output Loss: 1.6127103208418703e-08\n",
      "Iteration 379: Total Loss: 0.32814693450927734, Expl Loss: 3.123731958862286e-12, Output Loss: 1.577373076599997e-08\n",
      "Iteration 380: Total Loss: 0.32725775241851807, Expl Loss: 3.109806032478013e-12, Output Loss: 1.627715739971336e-08\n",
      "Iteration 381: Total Loss: 0.32549551129341125, Expl Loss: 3.0921484990564796e-12, Output Loss: 1.628067813896905e-08\n",
      "Iteration 382: Total Loss: 0.32437974214553833, Expl Loss: 3.0868671334338682e-12, Output Loss: 1.569302732207234e-08\n",
      "Iteration 383: Total Loss: 0.32381853461265564, Expl Loss: 3.082107052215788e-12, Output Loss: 1.5607831471697864e-08\n",
      "Iteration 384: Total Loss: 0.32239243388175964, Expl Loss: 3.06960186435834e-12, Output Loss: 1.543226524347574e-08\n",
      "Iteration 385: Total Loss: 0.3204089105129242, Expl Loss: 3.0554382808578584e-12, Output Loss: 1.4865094044580474e-08\n",
      "Iteration 386: Total Loss: 0.3198200464248657, Expl Loss: 3.0502295567808035e-12, Output Loss: 1.4797104874730849e-08\n",
      "Iteration 387: Total Loss: 0.31867238879203796, Expl Loss: 3.0353365220586737e-12, Output Loss: 1.5138734710262725e-08\n",
      "Iteration 388: Total Loss: 0.3177497982978821, Expl Loss: 3.0262571962258455e-12, Output Loss: 1.5124092200835548e-08\n",
      "Iteration 389: Total Loss: 0.3164358139038086, Expl Loss: 3.011069041672365e-12, Output Loss: 1.532890081534788e-08\n",
      "Iteration 390: Total Loss: 0.3158003091812134, Expl Loss: 3.003347570640358e-12, Output Loss: 1.5465568381500816e-08\n",
      "Iteration 391: Total Loss: 0.31480997800827026, Expl Loss: 2.9924368104977672e-12, Output Loss: 1.556628781429481e-08\n",
      "Iteration 392: Total Loss: 0.3139766454696655, Expl Loss: 2.977709875548462e-12, Output Loss: 1.6205678576852733e-08\n",
      "Iteration 393: Total Loss: 0.31342923641204834, Expl Loss: 2.9653939893903303e-12, Output Loss: 1.6889847742618258e-08\n",
      "Iteration 394: Total Loss: 0.3130507469177246, Expl Loss: 2.9565508027906695e-12, Output Loss: 1.739566357628064e-08\n",
      "Iteration 395: Total Loss: 0.312477707862854, Expl Loss: 2.944970005705483e-12, Output Loss: 1.7980722688548667e-08\n",
      "Iteration 396: Total Loss: 0.3113555312156677, Expl Loss: 2.9360589480498245e-12, Output Loss: 1.7749625769170052e-08\n",
      "Iteration 397: Total Loss: 0.31101587414741516, Expl Loss: 2.9358861262235303e-12, Output Loss: 1.742727029352409e-08\n",
      "Iteration 398: Total Loss: 0.3088794946670532, Expl Loss: 2.926369216393887e-12, Output Loss: 1.6242600153759668e-08\n",
      "Iteration 399: Total Loss: 0.30592215061187744, Expl Loss: 2.9113298143784716e-12, Output Loss: 1.4789160118766631e-08\n",
      "Iteration 400: Total Loss: 0.30424150824546814, Expl Loss: 2.902016517716821e-12, Output Loss: 1.403988125758815e-08\n",
      "Iteration 401: Total Loss: 0.3036339581012726, Expl Loss: 2.8987721511358755e-12, Output Loss: 1.3756746852777724e-08\n",
      "Iteration 402: Total Loss: 0.3031235933303833, Expl Loss: 2.8902429494853665e-12, Output Loss: 1.4099301282044507e-08\n",
      "Iteration 403: Total Loss: 0.30226707458496094, Expl Loss: 2.876550560249047e-12, Output Loss: 1.4612027143812156e-08\n",
      "Iteration 404: Total Loss: 0.3021722435951233, Expl Loss: 2.8676503446151136e-12, Output Loss: 1.5407195519401284e-08\n",
      "Iteration 405: Total Loss: 0.30202436447143555, Expl Loss: 2.859279653322222e-12, Output Loss: 1.6096418420374903e-08\n",
      "Iteration 406: Total Loss: 0.3020446300506592, Expl Loss: 2.8513875288682655e-12, Output Loss: 1.6905881139450685e-08\n",
      "Iteration 407: Total Loss: 0.3018019199371338, Expl Loss: 2.8483912277443846e-12, Output Loss: 1.6962809823439784e-08\n",
      "Iteration 408: Total Loss: 0.3005100190639496, Expl Loss: 2.833746909000623e-12, Output Loss: 1.7135308283400263e-08\n",
      "Iteration 409: Total Loss: 0.2996915578842163, Expl Loss: 2.8277924706693325e-12, Output Loss: 1.6912316880279832e-08\n",
      "Iteration 410: Total Loss: 0.2982161343097687, Expl Loss: 2.8222190209814535e-12, Output Loss: 1.5994251256756797e-08\n",
      "Iteration 411: Total Loss: 0.2956659197807312, Expl Loss: 2.812691052289651e-12, Output Loss: 1.4396814407291458e-08\n",
      "Iteration 412: Total Loss: 0.2942354679107666, Expl Loss: 2.808708127188808e-12, Output Loss: 1.3364659601222684e-08\n",
      "Iteration 413: Total Loss: 0.2934257686138153, Expl Loss: 2.799878818376955e-12, Output Loss: 1.3437905899138514e-08\n",
      "Iteration 414: Total Loss: 0.29283571243286133, Expl Loss: 2.7868152664006773e-12, Output Loss: 1.415420580741511e-08\n",
      "Iteration 415: Total Loss: 0.292901873588562, Expl Loss: 2.7771782269703227e-12, Output Loss: 1.5184058455020022e-08\n",
      "Iteration 416: Total Loss: 0.29230251908302307, Expl Loss: 2.76850612747348e-12, Output Loss: 1.5451893986551113e-08\n",
      "Iteration 417: Total Loss: 0.29136964678764343, Expl Loss: 2.761782772961463e-12, Output Loss: 1.519137704519835e-08\n",
      "Iteration 418: Total Loss: 0.289667010307312, Expl Loss: 2.7553376247269057e-12, Output Loss: 1.413323680310441e-08\n",
      "Iteration 419: Total Loss: 0.28878819942474365, Expl Loss: 2.7557157944446686e-12, Output Loss: 1.3216618022227067e-08\n",
      "Iteration 420: Total Loss: 0.2885739803314209, Expl Loss: 2.755134878920651e-12, Output Loss: 1.3060494907790599e-08\n",
      "Iteration 421: Total Loss: 0.28724008798599243, Expl Loss: 2.740994280506226e-12, Output Loss: 1.3140677879164286e-08\n",
      "Iteration 422: Total Loss: 0.2862812578678131, Expl Loss: 2.7239597296530027e-12, Output Loss: 1.388530268542354e-08\n",
      "Iteration 423: Total Loss: 0.2873362898826599, Expl Loss: 2.728229534648685e-12, Output Loss: 1.4513333645993498e-08\n",
      "Iteration 424: Total Loss: 0.28635066747665405, Expl Loss: 2.715125216670722e-12, Output Loss: 1.4838160922181487e-08\n",
      "Iteration 425: Total Loss: 0.28618189692497253, Expl Loss: 2.707144404479056e-12, Output Loss: 1.5467474412389492e-08\n",
      "Iteration 426: Total Loss: 0.2863045930862427, Expl Loss: 2.7021549060812777e-12, Output Loss: 1.6089099830196574e-08\n",
      "Iteration 427: Total Loss: 0.2871553897857666, Expl Loss: 2.70355092479857e-12, Output Loss: 1.6800322910626164e-08\n",
      "Iteration 428: Total Loss: 0.28800293803215027, Expl Loss: 2.7037226624226918e-12, Output Loss: 1.7630664927992257e-08\n",
      "Iteration 429: Total Loss: 0.28786996006965637, Expl Loss: 2.6911452667005564e-12, Output Loss: 1.8755445196916298e-08\n"
     ]
    },
    {
     "name": "stdout",
     "output_type": "stream",
     "text": [
      "Iteration 430: Total Loss: 0.28662383556365967, Expl Loss: 2.679319873605257e-12, Output Loss: 1.8691862280206806e-08\n",
      "Iteration 431: Total Loss: 0.28322604298591614, Expl Loss: 2.6668270456525756e-12, Output Loss: 1.654337111745008e-08\n",
      "Iteration 432: Total Loss: 0.28030771017074585, Expl Loss: 2.663915095457714e-12, Output Loss: 1.3916201524466487e-08\n",
      "Iteration 433: Total Loss: 0.2793324589729309, Expl Loss: 2.656735942352384e-12, Output Loss: 1.3658878472710967e-08\n",
      "Iteration 434: Total Loss: 0.28090423345565796, Expl Loss: 2.650497226211468e-12, Output Loss: 1.5854512369628537e-08\n",
      "Iteration 435: Total Loss: 0.28183403611183167, Expl Loss: 2.643712939537357e-12, Output Loss: 1.7462765455888984e-08\n",
      "Iteration 436: Total Loss: 0.27995383739471436, Expl Loss: 2.633879008992479e-12, Output Loss: 1.6565959271019892e-08\n",
      "Iteration 437: Total Loss: 0.2763746678829193, Expl Loss: 2.621725319479351e-12, Output Loss: 1.4202139908547906e-08\n",
      "Iteration 438: Total Loss: 0.27508553862571716, Expl Loss: 2.621983142755968e-12, Output Loss: 1.2887246825243892e-08\n",
      "Iteration 439: Total Loss: 0.2748528718948364, Expl Loss: 2.6116526476160917e-12, Output Loss: 1.3687603939160908e-08\n",
      "Iteration 440: Total Loss: 0.2743803560733795, Expl Loss: 2.6005937854567396e-12, Output Loss: 1.4320981733817462e-08\n",
      "Iteration 441: Total Loss: 0.2734280824661255, Expl Loss: 2.5966407843358574e-12, Output Loss: 1.376401481678613e-08\n",
      "Iteration 442: Total Loss: 0.2721899449825287, Expl Loss: 2.589691698931529e-12, Output Loss: 1.3220788019907559e-08\n",
      "Iteration 443: Total Loss: 0.2717439532279968, Expl Loss: 2.5813251276068927e-12, Output Loss: 1.3611428428816907e-08\n",
      "Iteration 444: Total Loss: 0.27179309725761414, Expl Loss: 2.5828054972532044e-12, Output Loss: 1.3512541308102755e-08\n",
      "Iteration 445: Total Loss: 0.2707018554210663, Expl Loss: 2.5777312142455377e-12, Output Loss: 1.292874607372596e-08\n",
      "Iteration 446: Total Loss: 0.26890918612480164, Expl Loss: 2.5667716650051853e-12, Output Loss: 1.2232045598636887e-08\n",
      "Iteration 447: Total Loss: 0.26804280281066895, Expl Loss: 2.559589259293338e-12, Output Loss: 1.2083890332803549e-08\n",
      "Iteration 448: Total Loss: 0.2677922248840332, Expl Loss: 2.5533351474815724e-12, Output Loss: 1.2458722054020654e-08\n",
      "Iteration 449: Total Loss: 0.2683621346950531, Expl Loss: 2.5580863382418384e-12, Output Loss: 1.2553504014078953e-08\n",
      "Iteration 450: Total Loss: 0.266719788312912, Expl Loss: 2.5451823808253504e-12, Output Loss: 1.2201541110812286e-08\n",
      "Iteration 451: Total Loss: 0.26550808548927307, Expl Loss: 2.532501985896829e-12, Output Loss: 1.2257902248791197e-08\n",
      "Iteration 452: Total Loss: 0.2662883400917053, Expl Loss: 2.5298539305107504e-12, Output Loss: 1.3302962287298215e-08\n",
      "Iteration 453: Total Loss: 0.2686544358730316, Expl Loss: 2.5225388184529907e-12, Output Loss: 1.6400541369421262e-08\n",
      "Iteration 454: Total Loss: 0.2776462137699127, Expl Loss: 2.5233426459436714e-12, Output Loss: 2.5311944540362674e-08\n",
      "Iteration 455: Total Loss: 0.306939959526062, Expl Loss: 2.5435448018640283e-12, Output Loss: 5.258547375319722e-08\n",
      "Iteration 456: Total Loss: 0.3969603478908539, Expl Loss: 2.6513615521833733e-12, Output Loss: 1.318241942271925e-07\n",
      "Iteration 457: Total Loss: 0.593255341053009, Expl Loss: 2.758043576508995e-12, Output Loss: 3.174509970449435e-07\n",
      "Iteration 458: Total Loss: 0.7212717533111572, Expl Loss: 2.986358989959248e-12, Output Loss: 4.2263584987267677e-07\n",
      "Iteration 459: Total Loss: 0.48712125420570374, Expl Loss: 2.763360937643733e-12, Output Loss: 2.1078517420392018e-07\n",
      "Iteration 460: Total Loss: 0.4305974245071411, Expl Loss: 2.8462076445689988e-12, Output Loss: 1.4597664232951502e-07\n",
      "Iteration 461: Total Loss: 0.5562916994094849, Expl Loss: 3.137592182594906e-12, Output Loss: 2.4253250785477576e-07\n",
      "Iteration 462: Total Loss: 0.3711280822753906, Expl Loss: 2.914153510516493e-12, Output Loss: 7.97127626128713e-08\n",
      "Iteration 463: Total Loss: 0.5011382699012756, Expl Loss: 2.999483690938054e-12, Output Loss: 2.011899198350875e-07\n",
      "Iteration 464: Total Loss: 0.47513851523399353, Expl Loss: 3.74282159085193e-12, Output Loss: 1.0085636859002989e-07\n",
      "Iteration 465: Total Loss: 0.42842814326286316, Expl Loss: 3.1638680390855267e-12, Output Loss: 1.1204136285414279e-07\n",
      "Iteration 466: Total Loss: 0.37821316719055176, Expl Loss: 3.256474733967507e-12, Output Loss: 5.2565706454288375e-08\n",
      "Iteration 467: Total Loss: 0.3788142502307892, Expl Loss: 3.045395316134125e-12, Output Loss: 7.427471615528702e-08\n",
      "Iteration 468: Total Loss: 0.3780703544616699, Expl Loss: 3.173616100818344e-12, Output Loss: 6.07087642379156e-08\n",
      "Iteration 469: Total Loss: 0.3598172664642334, Expl Loss: 2.9975284407401936e-12, Output Loss: 6.006442987427363e-08\n",
      "Iteration 470: Total Loss: 0.3540622591972351, Expl Loss: 3.1296263323932205e-12, Output Loss: 4.109964280019085e-08\n",
      "Iteration 471: Total Loss: 0.35559171438217163, Expl Loss: 3.1333889476126142e-12, Output Loss: 4.225283944947478e-08\n",
      "Iteration 472: Total Loss: 0.3376370668411255, Expl Loss: 3.0217668645082796e-12, Output Loss: 3.546037419255299e-08\n",
      "Iteration 473: Total Loss: 0.3599890470504761, Expl Loss: 3.1252520103081105e-12, Output Loss: 4.74638675029837e-08\n",
      "Iteration 474: Total Loss: 0.3413179814815521, Expl Loss: 3.0961153779651696e-12, Output Loss: 3.1706449021839944e-08\n",
      "Iteration 475: Total Loss: 0.33900800347328186, Expl Loss: 2.9871094747030424e-12, Output Loss: 4.0297063463867744e-08\n",
      "Iteration 476: Total Loss: 0.32942312955856323, Expl Loss: 3.012959456580311e-12, Output Loss: 2.8127185913717767e-08\n",
      "Iteration 477: Total Loss: 0.32489344477653503, Expl Loss: 2.9758927527073764e-12, Output Loss: 2.730417492102788e-08\n",
      "Iteration 478: Total Loss: 0.31610119342803955, Expl Loss: 2.9221059166112395e-12, Output Loss: 2.389059972074392e-08\n",
      "Iteration 479: Total Loss: 0.32406318187713623, Expl Loss: 2.9363000746129853e-12, Output Loss: 3.043319196649463e-08\n",
      "Iteration 480: Total Loss: 0.30839163064956665, Expl Loss: 2.8634134993654747e-12, Output Loss: 2.205030114055262e-08\n",
      "Iteration 481: Total Loss: 0.31333616375923157, Expl Loss: 2.8983408555116608e-12, Output Loss: 2.350207317647346e-08\n",
      "Iteration 482: Total Loss: 0.3047245442867279, Expl Loss: 2.852298909214457e-12, Output Loss: 1.9494642344852764e-08\n",
      "Iteration 483: Total Loss: 0.3014364242553711, Expl Loss: 2.8072054229777432e-12, Output Loss: 2.0715896553724633e-08\n",
      "Iteration 484: Total Loss: 0.30269938707351685, Expl Loss: 2.8395792661672914e-12, Output Loss: 1.8741467044947058e-08\n",
      "Iteration 485: Total Loss: 0.29698628187179565, Expl Loss: 2.7719365431472243e-12, Output Loss: 1.9792656402728426e-08\n",
      "Iteration 486: Total Loss: 0.2944633662700653, Expl Loss: 2.756446113028055e-12, Output Loss: 1.8818758107386202e-08\n",
      "Iteration 487: Total Loss: 0.29288071393966675, Expl Loss: 2.734135400722648e-12, Output Loss: 1.9467174539045118e-08\n",
      "Iteration 488: Total Loss: 0.28996121883392334, Expl Loss: 2.7161606297454455e-12, Output Loss: 1.8345161834076862e-08\n",
      "Iteration 489: Total Loss: 0.289741575717926, Expl Loss: 2.7204237126876585e-12, Output Loss: 1.7699226972922588e-08\n",
      "Iteration 490: Total Loss: 0.2857987880706787, Expl Loss: 2.6877410887193864e-12, Output Loss: 1.702469276665397e-08\n",
      "Iteration 491: Total Loss: 0.2806705832481384, Expl Loss: 2.6492362990848672e-12, Output Loss: 1.5746952186646013e-08\n",
      "Iteration 492: Total Loss: 0.2802797853946686, Expl Loss: 2.63235006708884e-12, Output Loss: 1.7044792244291784e-08\n",
      "Iteration 493: Total Loss: 0.27910858392715454, Expl Loss: 2.626900433289059e-12, Output Loss: 1.6418537640561226e-08\n",
      "Iteration 494: Total Loss: 0.27704739570617676, Expl Loss: 2.610057569379931e-12, Output Loss: 1.604163202273412e-08\n",
      "Iteration 495: Total Loss: 0.2753894031047821, Expl Loss: 2.60174477448305e-12, Output Loss: 1.521492443146144e-08\n",
      "Iteration 496: Total Loss: 0.2739148437976837, Expl Loss: 2.59565437719933e-12, Output Loss: 1.4349402555069446e-08\n",
      "Iteration 497: Total Loss: 0.2717171311378479, Expl Loss: 2.5730008401669835e-12, Output Loss: 1.4417061322546942e-08\n",
      "Iteration 498: Total Loss: 0.2698112726211548, Expl Loss: 2.552539776767837e-12, Output Loss: 1.4557306471374432e-08\n",
      "Iteration 499: Total Loss: 0.2701883614063263, Expl Loss: 2.5586182478276598e-12, Output Loss: 1.432655682975792e-08\n"
     ]
    }
   ],
   "source": [
    "optimizer = torch.optim.Adam([x_adv], lr=args_lr)\n",
    "\n",
    "for i in range(args_num_iter):\n",
    "    if args_beta_growth:\n",
    "        model.change_beta(get_beta(i, args_num_iter))\n",
    "\n",
    "    optimizer.zero_grad()\n",
    "\n",
    "    # calculate loss\n",
    "    adv_expl, adv_acc, class_idx = get_expl(model, x_adv, method, desired_index=org_idx)\n",
    "    loss_expl = F.mse_loss(adv_expl, target_expl)\n",
    "    loss_output = F.mse_loss(adv_acc, org_acc.detach())\n",
    "    total_loss = args_prefactors[0]*loss_expl + args_prefactors[1]*loss_output\n",
    "\n",
    "    # update adversarial example\n",
    "    total_loss.backward()\n",
    "    optimizer.step()\n",
    "\n",
    "    # clamp adversarial example\n",
    "    # Note: x_adv.data returns tensor which shares data with x_adv but requires\n",
    "    #       no gradient. Since we do not want to differentiate the clamping,\n",
    "    #       this is what we need\n",
    "    x_adv.data = clamp(x_adv.data, data_mean, data_std)\n",
    "\n",
    "    print(\"Iteration {}: Total Loss: {}, Expl Loss: {}, Output Loss: {}\".format(i, total_loss.item(), loss_expl.item(), loss_output.item()))"
   ]
  },
  {
   "cell_type": "code",
   "execution_count": 28,
   "metadata": {},
   "outputs": [
    {
     "name": "stdout",
     "output_type": "stream",
     "text": [
      "predicted class of x_adv_2 is  tensor([274], device='cuda:0')\n"
     ]
    }
   ],
   "source": [
    "# Test with original model (with relu activations)\n",
    "model.change_beta(None)\n",
    "\n",
    "# find the predicted class of x_adv2\n",
    "x_adv_pred = model(x_adv)\n",
    "print('predicted class of x_adv_2 is ',torch.argmax(x_adv_pred,axis=1))\n",
    "\n",
    "adv_expl, _, _ = get_expl(model, x_adv, method)\n",
    "\n",
    "# save results\n",
    "# output_dir = make_dir(args_output_dir)\n",
    "# plot_overview([x_target, x, x_adv], [target_expl, org_expl, adv_expl], data_mean, data_std, filename=f\"{output_dir}overview_{args_method}.png\")\n",
    "# torch.save(x_adv, f\"{output_dir}x_{args_method}.pth\")"
   ]
  },
  {
   "cell_type": "code",
   "execution_count": 29,
   "metadata": {},
   "outputs": [
    {
     "name": "stdout",
     "output_type": "stream",
     "text": [
      "<class 'torch.Tensor'>\n",
      "tensor(0., device='cuda:0', grad_fn=<MinBackward1>) tensor(0.9144, device='cuda:0', grad_fn=<MaxBackward1>)\n",
      "tensor(0.3655, device='cuda:0', grad_fn=<MeanBackward0>)\n"
     ]
    }
   ],
   "source": [
    "print(type(x_adv))\n",
    "print(torch.min(x_adv), torch.max(x_adv))\n",
    "print(torch.mean(x_adv))"
   ]
  },
  {
   "cell_type": "code",
   "execution_count": 30,
   "metadata": {},
   "outputs": [],
   "source": [
    "x_advs = torch.empty(10, 1, 3, 224, 224)\n",
    "for i in range(10):\n",
    "    x_advs[i] = x_adv\n",
    "torch.save(x_advs, \"../data/x_advs.pt\")\n",
    "x_adv_loaded = torch.load(\"../data/x_advs.pt\")\n",
    "loaded_sample = x_adv_loaded[0].to(device)\n",
    "x_adv_new = loaded_sample.clone().detach().requires_grad_()\n",
    "adv_expl, _, _ = get_expl(model,x_adv_new, method)"
   ]
  },
  {
   "cell_type": "code",
   "execution_count": 34,
   "metadata": {},
   "outputs": [
    {
     "name": "stdout",
     "output_type": "stream",
     "text": [
      "torch.Size([1, 224, 224])\n",
      "(32, 32)\n"
     ]
    },
    {
     "data": {
      "text/plain": [
       "<matplotlib.image.AxesImage at 0x7f3fae0794d0>"
      ]
     },
     "execution_count": 34,
     "metadata": {},
     "output_type": "execute_result"
    },
    {
     "data": {
      "image/png": "[encoded data removed]",
      "text/plain": [
       "<Figure size 432x288 with 1 Axes>"
      ]
     },
     "metadata": {
      "needs_background": "light"
     },
     "output_type": "display_data"
    }
   ],
   "source": [
    "print(adv_expl.shape)\n",
    "adv_expl = adv_expl.detach().cpu()\n",
    "adv_expl_np = adv_expl.numpy()\n",
    "adv_expl_np = adv_expl_np.reshape(224, 224)\n",
    "im2 = Image.fromarray(adv_expl_np)\n",
    "adv_expl2 = torchvision.transforms.ToTensor()(torchvision.transforms.Resize(side)(im2))\n",
    "adv_expl_np2 = adv_expl2.numpy()\n",
    "adv_expl_np2 = adv_expl_np2.reshape(side, side)\n",
    "print(adv_expl_np2.shape)\n",
    "plt.imshow(adv_expl_np2)"
   ]
  },
  {
   "cell_type": "markdown",
   "metadata": {},
   "source": [
    "# Retrieve the resulting adversarial example"
   ]
  },
  {
   "cell_type": "code",
   "execution_count": 58,
   "metadata": {},
   "outputs": [],
   "source": [
    "distortion = np.mean([float(torch.sum((x_adv[0][0]-x[0][0])**2)**.5), \n",
    "                      float(torch.sum((x_adv[0][1]-x[0][1])**2)**.5), \n",
    "                      float(torch.sum((x_adv[0][2]-x[0][2])**2)**.5)])"
   ]
  },
  {
   "cell_type": "code",
   "execution_count": 59,
   "metadata": {},
   "outputs": [
    {
     "data": {
      "text/plain": [
       "4.568252722422282"
      ]
     },
     "execution_count": 59,
     "metadata": {},
     "output_type": "execute_result"
    }
   ],
   "source": [
    "distortion"
   ]
  },
  {
   "cell_type": "code",
   "execution_count": 18,
   "metadata": {},
   "outputs": [],
   "source": [
    "side = 28"
   ]
  },
  {
   "cell_type": "code",
   "execution_count": 44,
   "metadata": {},
   "outputs": [
    {
     "ename": "TypeError",
     "evalue": "Cannot handle this data type",
     "output_type": "error",
     "traceback": [
      "\u001b[0;31m---------------------------------------------------------------------------\u001b[0m",
      "\u001b[0;31mKeyError\u001b[0m                                  Traceback (most recent call last)",
      "\u001b[0;32m~/anaconda3/envs/torch_env/lib/python3.7/site-packages/PIL/Image.py\u001b[0m in \u001b[0;36mfromarray\u001b[0;34m(obj, mode)\u001b[0m\n\u001b[1;32m   2648\u001b[0m             \u001b[0mtypekey\u001b[0m \u001b[0;34m=\u001b[0m \u001b[0;34m(\u001b[0m\u001b[0;36m1\u001b[0m\u001b[0;34m,\u001b[0m \u001b[0;36m1\u001b[0m\u001b[0;34m)\u001b[0m \u001b[0;34m+\u001b[0m \u001b[0mshape\u001b[0m\u001b[0;34m[\u001b[0m\u001b[0;36m2\u001b[0m\u001b[0;34m:\u001b[0m\u001b[0;34m]\u001b[0m\u001b[0;34m,\u001b[0m \u001b[0marr\u001b[0m\u001b[0;34m[\u001b[0m\u001b[0;34m\"typestr\"\u001b[0m\u001b[0;34m]\u001b[0m\u001b[0;34m\u001b[0m\u001b[0;34m\u001b[0m\u001b[0m\n\u001b[0;32m-> 2649\u001b[0;31m             \u001b[0mmode\u001b[0m\u001b[0;34m,\u001b[0m \u001b[0mrawmode\u001b[0m \u001b[0;34m=\u001b[0m \u001b[0m_fromarray_typemap\u001b[0m\u001b[0;34m[\u001b[0m\u001b[0mtypekey\u001b[0m\u001b[0;34m]\u001b[0m\u001b[0;34m\u001b[0m\u001b[0;34m\u001b[0m\u001b[0m\n\u001b[0m\u001b[1;32m   2650\u001b[0m         \u001b[0;32mexcept\u001b[0m \u001b[0mKeyError\u001b[0m\u001b[0;34m:\u001b[0m\u001b[0;34m\u001b[0m\u001b[0;34m\u001b[0m\u001b[0m\n",
      "\u001b[0;31mKeyError\u001b[0m: ((1, 1, 3), '<f4')",
      "\nDuring handling of the above exception, another exception occurred:\n",
      "\u001b[0;31mTypeError\u001b[0m                                 Traceback (most recent call last)",
      "\u001b[0;32m<ipython-input-44-b02e9b38f870>\u001b[0m in \u001b[0;36m<module>\u001b[0;34m\u001b[0m\n\u001b[1;32m      1\u001b[0m \u001b[0;31m#im2 = Image.fromarray(x_adv2_big[0][0])\u001b[0m\u001b[0;34m\u001b[0m\u001b[0;34m\u001b[0m\u001b[0;34m\u001b[0m\u001b[0m\n\u001b[0;32m----> 2\u001b[0;31m \u001b[0mim2\u001b[0m \u001b[0;34m=\u001b[0m \u001b[0mImage\u001b[0m\u001b[0;34m.\u001b[0m\u001b[0mfromarray\u001b[0m\u001b[0;34m(\u001b[0m\u001b[0mx_adv2_big2\u001b[0m\u001b[0;34m)\u001b[0m\u001b[0;34m\u001b[0m\u001b[0;34m\u001b[0m\u001b[0m\n\u001b[0m\u001b[1;32m      3\u001b[0m \u001b[0mx_adv2_small\u001b[0m \u001b[0;34m=\u001b[0m \u001b[0mtorchvision\u001b[0m\u001b[0;34m.\u001b[0m\u001b[0mtransforms\u001b[0m\u001b[0;34m.\u001b[0m\u001b[0mToTensor\u001b[0m\u001b[0;34m(\u001b[0m\u001b[0;34m)\u001b[0m\u001b[0;34m(\u001b[0m\u001b[0mtorchvision\u001b[0m\u001b[0;34m.\u001b[0m\u001b[0mtransforms\u001b[0m\u001b[0;34m.\u001b[0m\u001b[0mResize\u001b[0m\u001b[0;34m(\u001b[0m\u001b[0mside\u001b[0m\u001b[0;34m)\u001b[0m\u001b[0;34m(\u001b[0m\u001b[0mim2\u001b[0m\u001b[0;34m)\u001b[0m\u001b[0;34m)\u001b[0m\u001b[0;34m\u001b[0m\u001b[0;34m\u001b[0m\u001b[0m\n\u001b[1;32m      4\u001b[0m \u001b[0mx_adv2_small_np\u001b[0m \u001b[0;34m=\u001b[0m \u001b[0mx_adv2_small\u001b[0m\u001b[0;34m.\u001b[0m\u001b[0mnumpy\u001b[0m\u001b[0;34m(\u001b[0m\u001b[0;34m)\u001b[0m\u001b[0;34m\u001b[0m\u001b[0;34m\u001b[0m\u001b[0m\n\u001b[1;32m      5\u001b[0m \u001b[0;31m#x_adv2_small_np = x_adv2_small_np.reshape(side, side)\u001b[0m\u001b[0;34m\u001b[0m\u001b[0;34m\u001b[0m\u001b[0;34m\u001b[0m\u001b[0m\n",
      "\u001b[0;32m~/anaconda3/envs/torch_env/lib/python3.7/site-packages/PIL/Image.py\u001b[0m in \u001b[0;36mfromarray\u001b[0;34m(obj, mode)\u001b[0m\n\u001b[1;32m   2649\u001b[0m             \u001b[0mmode\u001b[0m\u001b[0;34m,\u001b[0m \u001b[0mrawmode\u001b[0m \u001b[0;34m=\u001b[0m \u001b[0m_fromarray_typemap\u001b[0m\u001b[0;34m[\u001b[0m\u001b[0mtypekey\u001b[0m\u001b[0;34m]\u001b[0m\u001b[0;34m\u001b[0m\u001b[0;34m\u001b[0m\u001b[0m\n\u001b[1;32m   2650\u001b[0m         \u001b[0;32mexcept\u001b[0m \u001b[0mKeyError\u001b[0m\u001b[0;34m:\u001b[0m\u001b[0;34m\u001b[0m\u001b[0;34m\u001b[0m\u001b[0m\n\u001b[0;32m-> 2651\u001b[0;31m             \u001b[0;32mraise\u001b[0m \u001b[0mTypeError\u001b[0m\u001b[0;34m(\u001b[0m\u001b[0;34m\"Cannot handle this data type\"\u001b[0m\u001b[0;34m)\u001b[0m\u001b[0;34m\u001b[0m\u001b[0;34m\u001b[0m\u001b[0m\n\u001b[0m\u001b[1;32m   2652\u001b[0m     \u001b[0;32melse\u001b[0m\u001b[0;34m:\u001b[0m\u001b[0;34m\u001b[0m\u001b[0;34m\u001b[0m\u001b[0m\n\u001b[1;32m   2653\u001b[0m         \u001b[0mrawmode\u001b[0m \u001b[0;34m=\u001b[0m \u001b[0mmode\u001b[0m\u001b[0;34m\u001b[0m\u001b[0;34m\u001b[0m\u001b[0m\n",
      "\u001b[0;31mTypeError\u001b[0m: Cannot handle this data type"
     ]
    }
   ],
   "source": [
    "x_adv2_big = x_adv.detach().cpu().numpy()\n",
    "print(x_adv2_big.shape)\n",
    "im2 = Image.fromarray(x_adv2_big[0][0])\n",
    "x_adv2_small = torchvision.transforms.ToTensor()(torchvision.transforms.Resize(side)(im2))\n",
    "x_adv2_small_np = x_adv2_small.numpy()\n",
    "#x_adv2_small_np = x_adv2_small_np.reshape(side, side)\n",
    "#x_adv2_small_np = (x_adv2_small_np *255).astype(np.uint8)"
   ]
  },
  {
   "cell_type": "code",
   "execution_count": 36,
   "metadata": {},
   "outputs": [
    {
     "data": {
      "text/plain": [
       "(1, 32, 32)"
      ]
     },
     "execution_count": 36,
     "metadata": {},
     "output_type": "execute_result"
    }
   ],
   "source": [
    "x_adv2_small_np.shape"
   ]
  },
  {
   "cell_type": "code",
   "execution_count": 41,
   "metadata": {},
   "outputs": [
    {
     "name": "stdout",
     "output_type": "stream",
     "text": [
      "0.0 1.0\n"
     ]
    }
   ],
   "source": [
    "print(np.min(x_adv2_big), np.max(x_adv2_big))"
   ]
  },
  {
   "cell_type": "code",
   "execution_count": 40,
   "metadata": {},
   "outputs": [
    {
     "name": "stdout",
     "output_type": "stream",
     "text": [
      "0.0044801235 0.80561244\n"
     ]
    }
   ],
   "source": [
    "print(np.min(x_adv2_small_np), np.max(x_adv2_small_np))"
   ]
  },
  {
   "cell_type": "code",
   "execution_count": 36,
   "metadata": {},
   "outputs": [
    {
     "name": "stdout",
     "output_type": "stream",
     "text": [
      "1 205\n"
     ]
    }
   ],
   "source": [
    "print(np.min(x_adv2_small_np), np.max(x_adv2_small_np))"
   ]
  },
  {
   "cell_type": "code",
   "execution_count": 23,
   "metadata": {},
   "outputs": [
    {
     "name": "stdout",
     "output_type": "stream",
     "text": [
      "This is the adv_2 adversarial example which produces the target map by the target explanation method\n"
     ]
    },
    {
     "data": {
      "text/plain": [
       "<matplotlib.image.AxesImage at 0x7fc7d681c1d0>"
      ]
     },
     "execution_count": 23,
     "metadata": {},
     "output_type": "execute_result"
    },
    {
     "data": {
      "image/png": "[encoded data removed]",
      "text/plain": [
       "<Figure size 432x288 with 1 Axes>"
      ]
     },
     "metadata": {
      "needs_background": "light"
     },
     "output_type": "display_data"
    }
   ],
   "source": [
    "print('This is the adv_2 adversarial example which produces the target map by the target explanation method')\n",
    "plt.imshow(x_adv2_small_np)"
   ]
  },
  {
   "cell_type": "code",
   "execution_count": 26,
   "metadata": {},
   "outputs": [
    {
     "name": "stdout",
     "output_type": "stream",
     "text": [
      "0 254\n",
      "1 205\n"
     ]
    },
    {
     "data": {
      "text/plain": [
       "<matplotlib.image.AxesImage at 0x7fc7d66cacd0>"
      ]
     },
     "execution_count": 26,
     "metadata": {},
     "output_type": "execute_result"
    },
    {
     "data": {
      "image/png": "[encoded data removed]",
      "text/plain": [
       "<Figure size 432x288 with 1 Axes>"
      ]
     },
     "metadata": {
      "needs_background": "light"
     },
     "output_type": "display_data"
    }
   ],
   "source": [
    "print(np.min(sample), np.max(sample))\n",
    "print(np.min(x_adv2_small_np), np.max(x_adv2_small_np))\n",
    "\n",
    "# changes between adv and adv2\n",
    "pert = abs(x_adv2_small_np - sample)\n",
    "plt.imshow(pert)"
   ]
  },
  {
   "cell_type": "code",
   "execution_count": 22,
   "metadata": {},
   "outputs": [
    {
     "name": "stdout",
     "output_type": "stream",
     "text": [
      "torch.Size([1, 224, 224])\n",
      "(28, 28)\n"
     ]
    },
    {
     "data": {
      "text/plain": [
       "<matplotlib.image.AxesImage at 0x7f0c2579cf10>"
      ]
     },
     "execution_count": 22,
     "metadata": {},
     "output_type": "execute_result"
    },
    {
     "data": {
      "image/png": "[encoded data removed]",
      "text/plain": [
       "<Figure size 432x288 with 1 Axes>"
      ]
     },
     "metadata": {
      "needs_background": "light"
     },
     "output_type": "display_data"
    }
   ],
   "source": [
    "print(adv_expl.shape)\n",
    "adv_expl = adv_expl.detach().cpu()\n",
    "adv_expl_np = adv_expl.numpy()\n",
    "adv_expl_np = adv_expl_np.reshape(224, 224)\n",
    "im2 = Image.fromarray(adv_expl_np)\n",
    "adv_expl2 = torchvision.transforms.ToTensor()(torchvision.transforms.Resize(side)(im2))\n",
    "adv_expl_np2 = adv_expl2.numpy()\n",
    "adv_expl_np2 = adv_expl_np2.reshape(side, side)\n",
    "print(adv_expl_np2.shape)\n",
    "plt.imshow(adv_expl_np2)"
   ]
  },
  {
   "cell_type": "code",
   "execution_count": 28,
   "metadata": {},
   "outputs": [
    {
     "name": "stdout",
     "output_type": "stream",
     "text": [
      "creating directory  ../data//adversary/fmnist/adv2/cwl2/conf_0/lrp/from_5/\n",
      "storing results in  ../data//adversary/fmnist/adv2/cwl2/conf_0/lrp/from_5/\n"
     ]
    }
   ],
   "source": [
    "# role = 'adversary'\n",
    "# dataset = 'fmnist'\n",
    "# output_dir = '../data/'\n",
    "# attack_method = 'cwl2/conf_0'\n",
    "# exp_method = 'lrp'\n",
    "# adv_src_class_idx = 5\n",
    "# output_dir = output_dir + '/' + role + '/' + dataset + '/' + 'adv2/' + attack_method + '/' + exp_method + '/from_' + str(adv_src_class_idx) + '/'\n",
    "\n",
    "# if not os.path.exists(output_dir):\n",
    "#     print('creating directory ',output_dir)\n",
    "#     os.makedirs(output_dir)\n",
    "\n",
    "# print('storing results in ',output_dir)\n",
    "# #np.save(output_dir+'x_adv2.npy', x_adv2_small_np)\n"
   ]
  },
  {
   "cell_type": "markdown",
   "metadata": {},
   "source": [
    "# Now use the adv2 example and produce its explanation"
   ]
  },
  {
   "cell_type": "code",
   "execution_count": 42,
   "metadata": {},
   "outputs": [
    {
     "name": "stdout",
     "output_type": "stream",
     "text": [
      "<class 'numpy.ndarray'>\n",
      "(28, 28)\n",
      "0.0044801235 0.80561244\n"
     ]
    }
   ],
   "source": [
    "print(type(x_adv2_small_np))\n",
    "print(x_adv2_small_np.shape)\n",
    "print(np.min(x_adv2_small_np), np.max(x_adv2_small_np))"
   ]
  },
  {
   "cell_type": "code",
   "execution_count": 35,
   "metadata": {},
   "outputs": [
    {
     "name": "stdout",
     "output_type": "stream",
     "text": [
      "<class 'torch.Tensor'>\n",
      "tensor(0.0039, device='cuda:0') tensor(0.7922, device='cuda:0')\n",
      "tensor(0.0525, device='cuda:0')\n"
     ]
    }
   ],
   "source": [
    "x2 = np_img_to_tensor(x_adv2_small_np, data_mean, data_std, device, num_ch=1)\n",
    "print(type(x2))\n",
    "print(torch.min(x2), torch.max(x2))\n",
    "print(torch.mean(x2))"
   ]
  },
  {
   "cell_type": "code",
   "execution_count": 52,
   "metadata": {},
   "outputs": [
    {
     "data": {
      "text/plain": [
       "torch.Size([1, 3, 224, 224])"
      ]
     },
     "execution_count": 52,
     "metadata": {},
     "output_type": "execute_result"
    }
   ],
   "source": [
    "x2.shape"
   ]
  },
  {
   "cell_type": "code",
   "execution_count": 44,
   "metadata": {},
   "outputs": [
    {
     "name": "stdout",
     "output_type": "stream",
     "text": [
      "torch.Size([1, 3, 224, 224])\n",
      "original class of x [adv2 example] is  111\n",
      "This is the explanation of the adv2 example\n"
     ]
    },
    {
     "data": {
      "text/plain": [
       "<matplotlib.image.AxesImage at 0x7f3e3a0c1650>"
      ]
     },
     "execution_count": 44,
     "metadata": {},
     "output_type": "execute_result"
    },
    {
     "data": {
      "image/png": "[encoded data removed]",
      "text/plain": [
       "<Figure size 432x288 with 1 Axes>"
      ]
     },
     "metadata": {
      "needs_background": "light"
     },
     "output_type": "display_data"
    }
   ],
   "source": [
    "\n",
    "x_adv2 = x2.clone().detach().requires_grad_()\n",
    "print(x2.shape)\n",
    "\n",
    "x_pred = model(x2)\n",
    "x_pred_class = torch.argmax(x_pred,axis=1)\n",
    "print('original class of x [adv2 example] is ',int(x_pred_class))\n",
    "\n",
    "org_expl2, _,_ = get_expl(model, x2, method)\n",
    "org_expl2 = org_expl2.detach().cpu()\n",
    "\n",
    "print('This is the explanation of the adv2 example')\n",
    "org_expl_np2 = org_expl2.cpu().numpy()\n",
    "plt.imshow(org_expl_np2[0])\n"
   ]
  },
  {
   "cell_type": "code",
   "execution_count": null,
   "metadata": {},
   "outputs": [],
   "source": []
  },
  {
   "cell_type": "code",
   "execution_count": null,
   "metadata": {},
   "outputs": [],
   "source": []
  }
 ],
 "metadata": {
  "kernelspec": {
   "display_name": "torch_env",
   "language": "python",
   "name": "torch_env"
  },
  "language_info": {
   "codemirror_mode": {
    "name": "ipython",
    "version": 3
   },
   "file_extension": ".py",
   "mimetype": "text/x-python",
   "name": "python",
   "nbconvert_exporter": "python",
   "pygments_lexer": "ipython3",
   "version": "3.7.6"
  }
 },
 "nbformat": 4,
 "nbformat_minor": 4
}
