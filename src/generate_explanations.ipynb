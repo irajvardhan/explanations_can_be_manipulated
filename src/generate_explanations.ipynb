{
 "cells": [
  {
   "cell_type": "code",
   "execution_count": 2,
   "metadata": {},
   "outputs": [
    {
     "name": "stdout",
     "output_type": "stream",
     "text": [
      "no display found. Using non-interactive Agg backend\n"
     ]
    }
   ],
   "source": [
    "import os\n",
    "os.environ[\"CUDA_DEVICE_ORDER\"]=\"PCI_BUS_ID\"   # see issue #152\n",
    "os.environ[\"CUDA_VISIBLE_DEVICES\"]=\"3\"\n",
    "\n",
    "import argparse\n",
    "import torch\n",
    "import torchvision\n",
    "import torch.nn.functional as F\n",
    "import numpy as np\n",
    "\n",
    "from nn.enums import ExplainingMethod\n",
    "from nn.networks import ExplainableNet\n",
    "from nn.utils import get_expl, plot_overview, clamp, load_image, make_dir\n",
    "import matplotlib.pyplot as plt\n",
    "%matplotlib inline"
   ]
  },
  {
   "cell_type": "code",
   "execution_count": 3,
   "metadata": {},
   "outputs": [],
   "source": [
    "def show(img):\n",
    "    plt.tick_params(\n",
    "        which='both',      # both major and minor ticks are affected\n",
    "        left = False,\n",
    "        right = False,\n",
    "        bottom=False,      # ticks along the bottom edge are off\n",
    "        top=False,         # ticks along the top edge are off\n",
    "        labelleft=False,\n",
    "        labelbottom=False) # labels along the bottom edge are off\n",
    "    if len(img.shape)==2:\n",
    "        plt.imshow(img,cmap='gray')\n",
    "    else:\n",
    "        plt.imshow(img)"
   ]
  },
  {
   "cell_type": "code",
   "execution_count": 4,
   "metadata": {},
   "outputs": [],
   "source": [
    "def get_beta(i, num_iter):\n",
    "    \"\"\"\n",
    "    Helper method for beta growth\n",
    "    \"\"\"\n",
    "    start_beta, end_beta = 10.0, 100.0\n",
    "    return start_beta * (end_beta / start_beta) ** (i / num_iter)\n",
    "\n",
    "def np_img_to_tensor(input_sample, num_ch):\n",
    "    if num_ch == 1:\n",
    "        rgb_img = np.repeat(input_sample[..., np.newaxis], 3, -1)\n",
    "    else:\n",
    "        rgb_img = input_sample\n",
    "    im = Image.fromarray(rgb_img)\n",
    "    x = torchvision.transforms.Normalize(mean=data_mean, std=data_std)(torchvision.transforms.ToTensor()(torchvision.transforms.Resize(224)(im)))\n",
    "    x = x.unsqueeze(0).to(device)\n",
    "    return x"
   ]
  },
  {
   "cell_type": "code",
   "execution_count": 5,
   "metadata": {},
   "outputs": [],
   "source": [
    "args_cuda = True\n",
    "\n",
    "# choices:['lrp', 'guided_backprop', 'gradient', 'integrated_grad','pattern_attribution', 'grad_times_input']\n",
    "args_method = 'lrp'\n",
    "args_beta_growth = None\n",
    "args_img = '../data/collie4.jpeg'\n",
    "args_target_img = '../data/tiger_cat.jpeg'\n",
    "args_num_iter = 1500\n",
    "args_prefactors = [1e11, 1e6]\n",
    "args_lr = 0.0002\n",
    "args_output_dir = '../output/'\n",
    "args_dataset ='fmnist'"
   ]
  },
  {
   "cell_type": "code",
   "execution_count": 10,
   "metadata": {},
   "outputs": [],
   "source": [
    "# options\n",
    "device = torch.device(\"cuda\" if args_cuda else \"cpu\")\n",
    "# load model\n",
    "# data_mean = np.array([0.485, 0.456, 0.406])\n",
    "# data_std = np.array([0.229, 0.224, 0.225])\n",
    "\n",
    "if args_dataset=='fmnist' or args_dataset == 'mnist':\n",
    "    data_mean = np.array([0.0, 0.0, 0.0])\n",
    "    data_std = np.array([1.0,1.0, 1.0])\n",
    "\n",
    "elif args_dataset=='cifar':\n",
    "    data_mean = np.array([0.0, 0.0, 0.0])\n",
    "    data_std = np.array([1.0,1.0, 1.0])\n",
    "#     data_mean = np.array([0.4914, 0.4822, 0.4465])\n",
    "#     data_std = np.array([0.2023, 0.1994, 0.201])\n",
    "\n"
   ]
  },
  {
   "cell_type": "code",
   "execution_count": 7,
   "metadata": {},
   "outputs": [
    {
     "name": "stdout",
     "output_type": "stream",
     "text": [
      "Explanation method ExplainingMethod.lrp will be used\n"
     ]
    }
   ],
   "source": [
    "method = getattr(ExplainingMethod, args_method)\n",
    "print('Explanation method {} will be used'.format(method))\n",
    "\n",
    "\n",
    "\n",
    "vgg_model = torchvision.models.vgg16(pretrained=True)\n",
    "model = ExplainableNet(vgg_model, data_mean=data_mean, data_std=data_std, beta=1000 if args_beta_growth else None)\n",
    "if method == ExplainingMethod.pattern_attribution:\n",
    "    model.load_state_dict(torch.load('../models/model_vgg16_pattern_small.pth'), strict=False)\n",
    "model = model.eval().to(device)\n",
    "\n",
    "#print(vgg_model)"
   ]
  },
  {
   "cell_type": "code",
   "execution_count": null,
   "metadata": {},
   "outputs": [],
   "source": [
    "# load images\n",
    "x = load_image(data_mean, data_std, device, args_img)\n",
    "x_target = load_image(data_mean, data_std, device, args_target_img)\n",
    "x_adv = x.clone().detach().requires_grad_()"
   ]
  },
  {
   "cell_type": "code",
   "execution_count": null,
   "metadata": {},
   "outputs": [],
   "source": [
    "x.requires_grad = True\n",
    "_, class_idx = model.classify(x)\n",
    "print('class_idx of dog: ',class_idx)\n",
    "\n",
    "_, target_class_idx = model.classify(x_target)\n",
    "print('class_idx of cat: ', target_class_idx)"
   ]
  },
  {
   "cell_type": "code",
   "execution_count": null,
   "metadata": {},
   "outputs": [],
   "source": [
    "\n",
    "org_expl, _, _ = get_expl(model, x, method, class_idx)\n",
    "org_expl_as_target, _, _ = get_expl(model, x, method, target_class_idx)\n",
    "\n",
    "\n",
    "target_expl, _, _ = get_expl(model, x_target, method, target_class_idx)\n",
    "target_expl_as_orig, _, _ = get_expl(model, x_target, method, class_idx)\n",
    "\n",
    "org_expl = org_expl.detach()\n",
    "org_expl_as_target = org_expl_as_target.detach()\n",
    "target_expl = target_expl.detach()\n",
    "target_expl_as_orig = target_expl_as_orig.detach()"
   ]
  },
  {
   "cell_type": "code",
   "execution_count": null,
   "metadata": {},
   "outputs": [],
   "source": [
    "import matplotlib.pyplot as plt\n",
    "%matplotlib inline\n",
    "org_expl_np = org_expl.cpu().numpy()\n",
    "plt.imshow(org_expl_np[0])"
   ]
  },
  {
   "cell_type": "code",
   "execution_count": null,
   "metadata": {},
   "outputs": [],
   "source": [
    "org_expl_as_target_np = org_expl_as_target.cpu().numpy()\n",
    "plt.imshow(org_expl_as_target_np[0])"
   ]
  },
  {
   "cell_type": "code",
   "execution_count": null,
   "metadata": {},
   "outputs": [],
   "source": [
    "target_expl_np = target_expl.cpu().numpy()\n",
    "plt.imshow(target_expl_np[0])"
   ]
  },
  {
   "cell_type": "code",
   "execution_count": null,
   "metadata": {},
   "outputs": [],
   "source": [
    "target_expl_as_orig_np = target_expl_as_orig.cpu().numpy()\n",
    "plt.imshow(target_expl_as_orig_np[0])"
   ]
  },
  {
   "cell_type": "markdown",
   "metadata": {},
   "source": [
    "# Plot a normal example and its explanations"
   ]
  },
  {
   "cell_type": "code",
   "execution_count": 8,
   "metadata": {},
   "outputs": [
    {
     "name": "stderr",
     "output_type": "stream",
     "text": [
      "Using TensorFlow backend.\n",
      "/home/raj_vardhan/anaconda3/envs/torch_env/lib/python3.7/site-packages/tensorflow/python/framework/dtypes.py:526: FutureWarning: Passing (type, 1) or '1type' as a synonym of type is deprecated; in a future version of numpy, it will be understood as (type, (1,)) / '(1,)type'.\n",
      "  _np_qint8 = np.dtype([(\"qint8\", np.int8, 1)])\n",
      "/home/raj_vardhan/anaconda3/envs/torch_env/lib/python3.7/site-packages/tensorflow/python/framework/dtypes.py:527: FutureWarning: Passing (type, 1) or '1type' as a synonym of type is deprecated; in a future version of numpy, it will be understood as (type, (1,)) / '(1,)type'.\n",
      "  _np_quint8 = np.dtype([(\"quint8\", np.uint8, 1)])\n",
      "/home/raj_vardhan/anaconda3/envs/torch_env/lib/python3.7/site-packages/tensorflow/python/framework/dtypes.py:528: FutureWarning: Passing (type, 1) or '1type' as a synonym of type is deprecated; in a future version of numpy, it will be understood as (type, (1,)) / '(1,)type'.\n",
      "  _np_qint16 = np.dtype([(\"qint16\", np.int16, 1)])\n",
      "/home/raj_vardhan/anaconda3/envs/torch_env/lib/python3.7/site-packages/tensorflow/python/framework/dtypes.py:529: FutureWarning: Passing (type, 1) or '1type' as a synonym of type is deprecated; in a future version of numpy, it will be understood as (type, (1,)) / '(1,)type'.\n",
      "  _np_quint16 = np.dtype([(\"quint16\", np.uint16, 1)])\n",
      "/home/raj_vardhan/anaconda3/envs/torch_env/lib/python3.7/site-packages/tensorflow/python/framework/dtypes.py:530: FutureWarning: Passing (type, 1) or '1type' as a synonym of type is deprecated; in a future version of numpy, it will be understood as (type, (1,)) / '(1,)type'.\n",
      "  _np_qint32 = np.dtype([(\"qint32\", np.int32, 1)])\n",
      "/home/raj_vardhan/anaconda3/envs/torch_env/lib/python3.7/site-packages/tensorflow/python/framework/dtypes.py:535: FutureWarning: Passing (type, 1) or '1type' as a synonym of type is deprecated; in a future version of numpy, it will be understood as (type, (1,)) / '(1,)type'.\n",
      "  np_resource = np.dtype([(\"resource\", np.ubyte, 1)])\n"
     ]
    }
   ],
   "source": [
    "import keras\n",
    "from keras import datasets \n",
    "from torchvision import datasets, transforms\n",
    "from PIL import Image\n",
    "\n",
    "if args_dataset == 'fmnist':\n",
    "    (x_train, y_train) ,(x_test, y_test) = keras.datasets.fashion_mnist.load_data()\n",
    "    num_ch = 1\n",
    "elif args_dataset == 'mnist':\n",
    "    (x_train, y_train) ,(x_test, y_test) = keras.datasets.mnist.load_data()\n",
    "    num_ch = 1"
   ]
  },
  {
   "cell_type": "code",
   "execution_count": 32,
   "metadata": {},
   "outputs": [],
   "source": [
    "class_idx = 3\n",
    "indices = np.where(y_train == class_idx)[0]\n",
    "choice = 70\n",
    "idx = indices[choice]"
   ]
  },
  {
   "cell_type": "code",
   "execution_count": 33,
   "metadata": {},
   "outputs": [
    {
     "data": {
      "image/png": "[encoded data removed]",
      "text/plain": [
       "<Figure size 432x288 with 1 Axes>"
      ]
     },
     "metadata": {},
     "output_type": "display_data"
    }
   ],
   "source": [
    "show(x_train[idx])"
   ]
  },
  {
   "cell_type": "code",
   "execution_count": 11,
   "metadata": {},
   "outputs": [
    {
     "data": {
      "image/png": "[encoded data removed]",
      "text/plain": [
       "<Figure size 1440x6480 with 5 Axes>"
      ]
     },
     "metadata": {
      "needs_background": "light"
     },
     "output_type": "display_data"
    }
   ],
   "source": [
    "num_exp_methods = 5\n",
    "side = 28\n",
    "expls = np.empty((num_exp_methods, side, side))\n",
    "device = torch.device(\"cuda\" if args_cuda else \"cpu\")\n",
    "\n",
    "for i, exp_method in enumerate(['lrp', 'guided_backprop', 'integrated_grad','pattern_attribution', 'grad_times_input']):\n",
    "    method = getattr(ExplainingMethod, exp_method)\n",
    "    \n",
    "    vgg_model = torchvision.models.vgg16(pretrained=True)\n",
    "    model = ExplainableNet(vgg_model, data_mean=data_mean, data_std=data_std, beta=1000 if args_beta_growth else None)\n",
    "    if method == ExplainingMethod.pattern_attribution:\n",
    "        model.load_state_dict(torch.load('../models/model_vgg16_pattern_small.pth'), strict=False)\n",
    "    model = model.eval().to(device)\n",
    "    \n",
    "    \n",
    "    x = np_img_to_tensor(x_train[idx], num_ch)\n",
    "    x_adv = x.clone().detach().requires_grad_()\n",
    "    \n",
    "    org_expl, org_acc, org_idx = get_expl(model, x, method)\n",
    "    org_expl = org_expl.detach().cpu()\n",
    "    \n",
    "    xnp = org_expl.numpy()\n",
    "    xnp = xnp.reshape(224, 224)\n",
    "    im2 = Image.fromarray(xnp)\n",
    "    x_new = torchvision.transforms.ToTensor()(torchvision.transforms.Resize(28)(im2))\n",
    "    x_new_np = x_new.numpy()\n",
    "    x_new_np = x_new_np.reshape(28,28)\n",
    "    \n",
    "    expls[i] = x_new_np\n",
    "\n",
    "\n",
    "n = num_exp_methods\n",
    "plt.figure(figsize=(20,90))\n",
    "for i in range(n):\n",
    "    # display original\n",
    "    ax = plt.subplot(1, n, i + 1)\n",
    "    plt.imshow(expls[i])\n",
    "    if args_dataset == 'fmnist' or args_dataset == 'mnist':\n",
    "        plt.gray()\n",
    "    \n",
    "    ax.get_xaxis().set_visible(False)\n",
    "    ax.get_yaxis().set_visible(False)\n",
    "plt.gray()\n",
    "plt.tight_layout()\n",
    "plt.show()"
   ]
  },
  {
   "cell_type": "code",
   "execution_count": null,
   "metadata": {},
   "outputs": [],
   "source": []
  },
  {
   "cell_type": "code",
   "execution_count": 34,
   "metadata": {},
   "outputs": [
    {
     "data": {
      "image/png": "[encoded data removed]",
      "text/plain": [
       "<Figure size 432x288 with 1 Axes>"
      ]
     },
     "metadata": {},
     "output_type": "display_data"
    }
   ],
   "source": [
    "num_exp_methods = 1\n",
    "side = 28\n",
    "expls = np.empty((num_exp_methods, side, side))\n",
    "device = torch.device(\"cuda\" if args_cuda else \"cpu\")\n",
    "\n",
    "for i, exp_method in enumerate(['guided_backprop']):\n",
    "    method = getattr(ExplainingMethod, exp_method)\n",
    "    \n",
    "    vgg_model = torchvision.models.vgg16(pretrained=True)\n",
    "    model = ExplainableNet(vgg_model, data_mean=data_mean, data_std=data_std, beta=1000 if args_beta_growth else None)\n",
    "    if method == ExplainingMethod.pattern_attribution:\n",
    "        model.load_state_dict(torch.load('../models/model_vgg16_pattern_small.pth'), strict=False)\n",
    "    model = model.eval().to(device)\n",
    "    \n",
    "    \n",
    "    x = np_img_to_tensor(x_train[idx], num_ch)\n",
    "    x_adv = x.clone().detach().requires_grad_()\n",
    "    \n",
    "    org_expl, org_acc, org_idx = get_expl(model, x, method)\n",
    "    org_expl = org_expl.detach().cpu()\n",
    "    \n",
    "    xnp = org_expl.numpy()\n",
    "    xnp = xnp.reshape(224, 224)\n",
    "    im2 = Image.fromarray(xnp)\n",
    "    x_new = torchvision.transforms.ToTensor()(torchvision.transforms.Resize(28)(im2))\n",
    "    x_new_np = x_new.numpy()\n",
    "    x_new_np = x_new_np.reshape(28,28)\n",
    "    \n",
    "    expls[i] = x_new_np\n",
    "\n",
    "\n",
    "show(expls[i])"
   ]
  },
  {
   "cell_type": "markdown",
   "metadata": {},
   "source": [
    "# Plot a source example, adversarial example, and explanation of adversarial examples"
   ]
  },
  {
   "cell_type": "code",
   "execution_count": 10,
   "metadata": {},
   "outputs": [],
   "source": [
    "if class_idx == 0:\n",
    "    src_class_idx = 9\n",
    "else:\n",
    "    src_class_idx = class_idx-1"
   ]
  },
  {
   "cell_type": "code",
   "execution_count": 11,
   "metadata": {},
   "outputs": [],
   "source": [
    "attack_method = 'mim'\n",
    "adv_dir = '../../xai-adv/data/postndss/defender/'+args_dataset+'/target_next/target_' + str(class_idx) + '/' + attack_method + '/'\n",
    "adv = np.load(adv_dir+'x_adv_ar.npy')\n",
    "indices_of_src = np.where(y_train == src_class_idx)[0]\n"
   ]
  },
  {
   "cell_type": "code",
   "execution_count": 14,
   "metadata": {},
   "outputs": [
    {
     "name": "stdout",
     "output_type": "stream",
     "text": [
      "This is the source example from which adv example was created\n"
     ]
    },
    {
     "data": {
      "image/png": "[encoded data removed]",
      "text/plain": [
       "<Figure size 432x288 with 1 Axes>"
      ]
     },
     "metadata": {},
     "output_type": "display_data"
    }
   ],
   "source": [
    "choice = 10\n",
    "idx = indices_of_src[choice]\n",
    "print('This is the source example from which adv example was created')\n",
    "show(x_train[idx]) "
   ]
  },
  {
   "cell_type": "code",
   "execution_count": 15,
   "metadata": {},
   "outputs": [
    {
     "name": "stdout",
     "output_type": "stream",
     "text": [
      "This is the adv example from which explanation will be created\n"
     ]
    },
    {
     "data": {
      "image/png": "[encoded data removed]",
      "text/plain": [
       "<Figure size 432x288 with 1 Axes>"
      ]
     },
     "metadata": {},
     "output_type": "display_data"
    }
   ],
   "source": [
    "print('This is the adv example from which explanation will be created')\n",
    "show(adv[choice])"
   ]
  },
  {
   "cell_type": "code",
   "execution_count": 29,
   "metadata": {},
   "outputs": [
    {
     "data": {
      "image/png": "[encoded data removed]",
      "text/plain": [
       "<Figure size 1440x6480 with 5 Axes>"
      ]
     },
     "metadata": {
      "needs_background": "light"
     },
     "output_type": "display_data"
    }
   ],
   "source": [
    "import random\n",
    "num_exp_methods = 5\n",
    "side = 28\n",
    "expls = np.empty((num_exp_methods, side, side))\n",
    "device = torch.device(\"cuda\" if args_cuda else \"cpu\")\n",
    "desired_index = random.randint(0,999)\n",
    "\n",
    "adv_sample = adv[choice]\n",
    "adv_sample = adv_sample * 255\n",
    "adv_sample = adv_sample.astype(np.uint8)\n",
    "\n",
    "for i, exp_method in enumerate(['lrp', 'guided_backprop', 'integrated_grad','pattern_attribution', 'grad_times_input']):\n",
    "    method = getattr(ExplainingMethod, exp_method)\n",
    "    \n",
    "    vgg_model = torchvision.models.vgg16(pretrained=True)\n",
    "    model = ExplainableNet(vgg_model, data_mean=data_mean, data_std=data_std, beta=1000 if args_beta_growth else None)\n",
    "    if method == ExplainingMethod.pattern_attribution:\n",
    "        model.load_state_dict(torch.load('../models/model_vgg16_pattern_small.pth'), strict=False)\n",
    "    model = model.eval().to(device)\n",
    "    \n",
    "    \n",
    "    x = np_img_to_tensor(adv_sample, num_ch)\n",
    "    x_adv = x.clone().detach().requires_grad_()\n",
    "    \n",
    "    org_expl, org_acc, org_idx = get_expl(model, x, method, desired_index)\n",
    "    org_expl = org_expl.detach().cpu()\n",
    "    \n",
    "    xnp = org_expl.numpy()\n",
    "    xnp = xnp.reshape(224, 224)\n",
    "    im2 = Image.fromarray(xnp)\n",
    "    x_new = torchvision.transforms.ToTensor()(torchvision.transforms.Resize(28)(im2))\n",
    "    x_new_np = x_new.numpy()\n",
    "    x_new_np = x_new_np.reshape(28,28)\n",
    "    \n",
    "    expls[i] = x_new_np\n",
    "\n",
    "\n",
    "n = num_exp_methods\n",
    "plt.figure(figsize=(20,90))\n",
    "for i in range(n):\n",
    "    # display original\n",
    "    ax = plt.subplot(1, n, i + 1)\n",
    "    plt.imshow(expls[i])\n",
    "    if args_dataset == 'fmnist' or args_dataset == 'mnist':\n",
    "        plt.gray()\n",
    "    \n",
    "    ax.get_xaxis().set_visible(False)\n",
    "    ax.get_yaxis().set_visible(False)\n",
    "plt.gray()\n",
    "plt.tight_layout()\n",
    "plt.show()"
   ]
  },
  {
   "cell_type": "code",
   "execution_count": 30,
   "metadata": {},
   "outputs": [
    {
     "data": {
      "image/png": "[encoded data removed]",
      "text/plain": [
       "<Figure size 432x288 with 1 Axes>"
      ]
     },
     "metadata": {},
     "output_type": "display_data"
    }
   ],
   "source": [
    "src_img = x_train[idx]\n",
    "src_img = src_img/255.\n",
    "adv_sample = adv[choice]\n",
    "\n",
    "pert = abs(adv_sample-src_img)\n",
    "show(pert)"
   ]
  },
  {
   "cell_type": "markdown",
   "metadata": {},
   "source": [
    "# Play"
   ]
  },
  {
   "cell_type": "code",
   "execution_count": null,
   "metadata": {},
   "outputs": [],
   "source": [
    "import keras\n",
    "from keras import datasets \n",
    "(x_train, y_train) ,(x_test, y_test) = datasets.fashion_mnist.load_data()\n",
    "from torchvision import datasets, transforms\n",
    "from PIL import Image\n",
    "\n",
    "x = np_img_to_tensor(x_train[0])\n",
    "x_adv = x.clone().detach().requires_grad_()\n",
    "print(x.shape)\n",
    "org_expl, org_acc, org_idx = get_expl(model, x, method)\n",
    "org_expl = org_expl.detach().cpu()\n",
    "\n",
    "# The class from which we will derive the target explanation\n",
    "source_class_idx = 6\n",
    "# pick index of x_train where the label is that of the source class\n",
    "idx = np.where(y_train == source_class_idx)[0][0]\n",
    "grayscale_img_src = x_train[idx]\n",
    "x_target = np_img_to_tensor(grayscale_img_src)\n",
    "target_expl, _, _ = get_expl(model, x_target, method)\n",
    "target_expl = target_expl.detach()"
   ]
  },
  {
   "cell_type": "code",
   "execution_count": 7,
   "metadata": {},
   "outputs": [
    {
     "data": {
      "text/plain": [
       "<matplotlib.image.AxesImage at 0x7f6c0274f790>"
      ]
     },
     "execution_count": 7,
     "metadata": {},
     "output_type": "execute_result"
    },
    {
     "data": {
      "image/png": "[encoded data removed]",
      "text/plain": [
       "<Figure size 432x288 with 1 Axes>"
      ]
     },
     "metadata": {
      "needs_background": "light"
     },
     "output_type": "display_data"
    }
   ],
   "source": [
    "import matplotlib.pyplot as plt\n",
    "%matplotlib inline\n",
    "plt.imshow(x_train[0])"
   ]
  },
  {
   "cell_type": "code",
   "execution_count": null,
   "metadata": {},
   "outputs": [],
   "source": [
    "org_expl_np = org_expl.cpu().numpy()\n",
    "plt.imshow(org_expl_np[0])"
   ]
  },
  {
   "cell_type": "code",
   "execution_count": null,
   "metadata": {},
   "outputs": [],
   "source": [
    "plt.imshow(grayscale_img_src)"
   ]
  },
  {
   "cell_type": "code",
   "execution_count": null,
   "metadata": {},
   "outputs": [],
   "source": [
    "target_expl_np = target_expl.cpu().numpy()\n",
    "plt.imshow(target_expl_np[0])"
   ]
  },
  {
   "cell_type": "code",
   "execution_count": null,
   "metadata": {},
   "outputs": [],
   "source": []
  },
  {
   "cell_type": "markdown",
   "metadata": {},
   "source": [
    "# Exploration with Cifar"
   ]
  },
  {
   "cell_type": "markdown",
   "metadata": {},
   "source": [
    "## Cifar_Normal "
   ]
  },
  {
   "cell_type": "code",
   "execution_count": 5,
   "metadata": {},
   "outputs": [
    {
     "name": "stderr",
     "output_type": "stream",
     "text": [
      "Using TensorFlow backend.\n",
      "/home/raj_vardhan/anaconda3/envs/torch_env/lib/python3.7/site-packages/tensorflow/python/framework/dtypes.py:526: FutureWarning: Passing (type, 1) or '1type' as a synonym of type is deprecated; in a future version of numpy, it will be understood as (type, (1,)) / '(1,)type'.\n",
      "  _np_qint8 = np.dtype([(\"qint8\", np.int8, 1)])\n",
      "/home/raj_vardhan/anaconda3/envs/torch_env/lib/python3.7/site-packages/tensorflow/python/framework/dtypes.py:527: FutureWarning: Passing (type, 1) or '1type' as a synonym of type is deprecated; in a future version of numpy, it will be understood as (type, (1,)) / '(1,)type'.\n",
      "  _np_quint8 = np.dtype([(\"quint8\", np.uint8, 1)])\n",
      "/home/raj_vardhan/anaconda3/envs/torch_env/lib/python3.7/site-packages/tensorflow/python/framework/dtypes.py:528: FutureWarning: Passing (type, 1) or '1type' as a synonym of type is deprecated; in a future version of numpy, it will be understood as (type, (1,)) / '(1,)type'.\n",
      "  _np_qint16 = np.dtype([(\"qint16\", np.int16, 1)])\n",
      "/home/raj_vardhan/anaconda3/envs/torch_env/lib/python3.7/site-packages/tensorflow/python/framework/dtypes.py:529: FutureWarning: Passing (type, 1) or '1type' as a synonym of type is deprecated; in a future version of numpy, it will be understood as (type, (1,)) / '(1,)type'.\n",
      "  _np_quint16 = np.dtype([(\"quint16\", np.uint16, 1)])\n",
      "/home/raj_vardhan/anaconda3/envs/torch_env/lib/python3.7/site-packages/tensorflow/python/framework/dtypes.py:530: FutureWarning: Passing (type, 1) or '1type' as a synonym of type is deprecated; in a future version of numpy, it will be understood as (type, (1,)) / '(1,)type'.\n",
      "  _np_qint32 = np.dtype([(\"qint32\", np.int32, 1)])\n",
      "/home/raj_vardhan/anaconda3/envs/torch_env/lib/python3.7/site-packages/tensorflow/python/framework/dtypes.py:535: FutureWarning: Passing (type, 1) or '1type' as a synonym of type is deprecated; in a future version of numpy, it will be understood as (type, (1,)) / '(1,)type'.\n",
      "  np_resource = np.dtype([(\"resource\", np.ubyte, 1)])\n"
     ]
    }
   ],
   "source": [
    "import keras\n",
    "from keras import datasets \n",
    "(x_train, y_train) ,(x_test, y_test) = datasets.cifar10.load_data()"
   ]
  },
  {
   "cell_type": "code",
   "execution_count": 12,
   "metadata": {},
   "outputs": [
    {
     "name": "stdout",
     "output_type": "stream",
     "text": [
      "torch.Size([1, 3, 224, 224])\n"
     ]
    }
   ],
   "source": [
    "from torchvision import datasets, transforms\n",
    "from PIL import Image\n",
    "\n",
    "idx = 0\n",
    "x = np_img_to_tensor(x_train[idx], num_ch=3)\n",
    "x_adv = x.clone().detach().requires_grad_()\n",
    "print(x.shape)\n",
    "\n",
    "org_expl, org_acc, org_idx = get_expl(model, x, method)\n",
    "org_expl = org_expl.detach().cpu()"
   ]
  },
  {
   "cell_type": "code",
   "execution_count": 13,
   "metadata": {},
   "outputs": [
    {
     "data": {
      "text/plain": [
       "<matplotlib.image.AxesImage at 0x7fea4329aa90>"
      ]
     },
     "execution_count": 13,
     "metadata": {},
     "output_type": "execute_result"
    },
    {
     "data": {
      "image/png": "[encoded data removed]",
      "text/plain": [
       "<Figure size 432x288 with 1 Axes>"
      ]
     },
     "metadata": {
      "needs_background": "light"
     },
     "output_type": "display_data"
    }
   ],
   "source": [
    "plt.imshow(x_train[idx])"
   ]
  },
  {
   "cell_type": "code",
   "execution_count": 14,
   "metadata": {},
   "outputs": [
    {
     "data": {
      "text/plain": [
       "<matplotlib.image.AxesImage at 0x7fea43209950>"
      ]
     },
     "execution_count": 14,
     "metadata": {},
     "output_type": "execute_result"
    },
    {
     "data": {
      "image/png": "[encoded data removed]",
      "text/plain": [
       "<Figure size 432x288 with 1 Axes>"
      ]
     },
     "metadata": {
      "needs_background": "light"
     },
     "output_type": "display_data"
    }
   ],
   "source": [
    "import matplotlib.pyplot as plt\n",
    "%matplotlib inline\n",
    "org_expl_np = org_expl.cpu().numpy()\n",
    "plt.imshow(org_expl_np[0])"
   ]
  },
  {
   "cell_type": "code",
   "execution_count": 23,
   "metadata": {},
   "outputs": [
    {
     "data": {
      "text/plain": [
       "torch.Size([1, 224, 224])"
      ]
     },
     "execution_count": 23,
     "metadata": {},
     "output_type": "execute_result"
    }
   ],
   "source": [
    "org_expl.shape"
   ]
  },
  {
   "cell_type": "code",
   "execution_count": 15,
   "metadata": {},
   "outputs": [],
   "source": [
    "org_expl_np = org_expl.numpy()\n",
    "org_expl_np = org_expl_np.reshape(224, 224)\n",
    "im2 = Image.fromarray(org_expl_np)\n",
    "org_expl2 = torchvision.transforms.ToTensor()(torchvision.transforms.Resize(32)(im2))\n",
    "org_expl_np2 = org_expl2.numpy()\n",
    "org_expl_np2 = org_expl_np2.reshape(32,32)"
   ]
  },
  {
   "cell_type": "code",
   "execution_count": 11,
   "metadata": {},
   "outputs": [
    {
     "data": {
      "text/plain": [
       "<matplotlib.image.AxesImage at 0x7fea432abcd0>"
      ]
     },
     "execution_count": 11,
     "metadata": {},
     "output_type": "execute_result"
    },
    {
     "data": {
      "image/png": "[encoded data removed]",
      "text/plain": [
       "<Figure size 432x288 with 1 Axes>"
      ]
     },
     "metadata": {
      "needs_background": "light"
     },
     "output_type": "display_data"
    }
   ],
   "source": [
    "plt.imshow(org_expl_np2)"
   ]
  },
  {
   "cell_type": "markdown",
   "metadata": {},
   "source": [
    "## Cifar_Abnormal"
   ]
  },
  {
   "cell_type": "code",
   "execution_count": 4,
   "metadata": {},
   "outputs": [
    {
     "name": "stdout",
     "output_type": "stream",
     "text": [
      "Loading 1000 adv samples from ../../xai-adv/data/postndss/defender/cifar10/target_next/target_0/cwl2/conf_0/ \n",
      "0.0019288361072540283\n",
      "0.9997408986091614\n"
     ]
    }
   ],
   "source": [
    "adv_dir = '../../xai-adv/data/postndss/{}/{}/target_next/target_{}/{}/'\n",
    "adv_dir = adv_dir.format('defender', 'cifar10', '0', 'cwl2/conf_0')\n",
    "x_train = np.load(adv_dir + '/x_adv_ar.npy')\n",
    "print('Loading {} adv samples from {} '.format(x_train.shape[0],adv_dir))\n",
    "print(np.min(x_train[0]))\n",
    "print(np.max(x_train[0]))"
   ]
  },
  {
   "cell_type": "code",
   "execution_count": 5,
   "metadata": {},
   "outputs": [],
   "source": [
    "x_train = (x_train*255).astype(np.uint8)"
   ]
  },
  {
   "cell_type": "markdown",
   "metadata": {},
   "source": [
    "## Plot noisy example and its explanation"
   ]
  },
  {
   "cell_type": "code",
   "execution_count": 10,
   "metadata": {},
   "outputs": [],
   "source": [
    "dataset = 'fmnist'\n",
    "\n",
    "import keras\n",
    "from keras import datasets \n",
    "from torchvision import datasets, transforms\n",
    "from PIL import Image\n",
    "\n",
    "if args_dataset == 'fmnist':\n",
    "    (x_train, y_train) ,(x_test, y_test) = keras.datasets.fashion_mnist.load_data()\n",
    "    num_ch = 1\n",
    "elif args_dataset == 'mnist':\n",
    "    (x_train, y_train) ,(x_test, y_test) = keras.datasets.mnist.load_data()\n",
    "    num_ch = 1\n",
    "\n",
    "x_noised = np.load('../../xai-adv/' + 'data/postndss/defender/'+ dataset +'/with_noise/x_noised.npy')\n",
    "print('x_noised shape: ',x_noised.shape)"
   ]
  },
  {
   "cell_type": "code",
   "execution_count": 29,
   "metadata": {},
   "outputs": [
    {
     "name": "stdout",
     "output_type": "stream",
     "text": [
      "[ 9 12 22 36 38 43 45 60 61 70]\n"
     ]
    }
   ],
   "source": [
    "# Select a class index. We will show normal and noisy examples of this class\n",
    "class_ind = 7\n",
    "indices = np.where(y_test == class_ind)[0]\n",
    "print(indices[0:10])"
   ]
  },
  {
   "cell_type": "code",
   "execution_count": 46,
   "metadata": {},
   "outputs": [
    {
     "data": {
      "image/png": "[encoded data removed]",
      "text/plain": [
       "<Figure size 1440x6480 with 5 Axes>"
      ]
     },
     "metadata": {
      "needs_background": "light"
     },
     "output_type": "display_data"
    }
   ],
   "source": [
    "# select position of the example (can be anything depending upon the number of examples of this class)\n",
    "pos = 0\n",
    "n = x_noised.shape[0]+1\n",
    "\n",
    "samples = np.empty((5, 28, 28))\n",
    "for i in range(n):\n",
    "    if i == 0:\n",
    "        samples[i] = x_test[indices[pos]]\n",
    "    else:\n",
    "        samples[i] = x_noised[i-1][indices[pos]].reshape(28,28) * 255        \n",
    "\n",
    "plt.figure(figsize=(20,90))\n",
    "for i in range(n):\n",
    "    # display original\n",
    "    ax = plt.subplot(1, n, i + 1)\n",
    "    plt.imshow(samples[i])\n",
    "    ax.get_xaxis().set_visible(False)\n",
    "    ax.get_yaxis().set_visible(False)\n",
    "plt.gray()\n",
    "plt.tight_layout()\n",
    "plt.show()"
   ]
  },
  {
   "cell_type": "code",
   "execution_count": 49,
   "metadata": {},
   "outputs": [
    {
     "data": {
      "image/png": "[encoded data removed]",
      "text/plain": [
       "<Figure size 1440x6480 with 5 Axes>"
      ]
     },
     "metadata": {
      "needs_background": "light"
     },
     "output_type": "display_data"
    }
   ],
   "source": [
    "expls = np.empty((5, 28, 28))\n",
    "num_ch = 1\n",
    "device = torch.device(\"cuda\" if args_cuda else \"cpu\")\n",
    "exp_method = 'lrp'\n",
    "method = getattr(ExplainingMethod, exp_method)\n",
    "\n",
    "vgg_model = torchvision.models.vgg16(pretrained=True)\n",
    "model = ExplainableNet(vgg_model, data_mean=data_mean, data_std=data_std, beta=1000 if args_beta_growth else None)\n",
    "if method == ExplainingMethod.pattern_attribution:\n",
    "    model.load_state_dict(torch.load('../models/model_vgg16_pattern_small.pth'), strict=False)\n",
    "model = model.eval().to(device)\n",
    "for i in range(n):\n",
    "    sample = samples[i].astype(np.uint8)\n",
    "    x = np_img_to_tensor(sample, num_ch)\n",
    "    org_expl, org_acc, org_idx = get_expl(model, x, method)\n",
    "    org_expl = org_expl.detach().cpu()\n",
    "    \n",
    "    xnp = org_expl.numpy()\n",
    "    xnp = xnp.reshape(224, 224)\n",
    "    im2 = Image.fromarray(xnp)\n",
    "    x_new = torchvision.transforms.ToTensor()(torchvision.transforms.Resize(28)(im2))\n",
    "    x_new_np = x_new.numpy()\n",
    "    x_new_np = x_new_np.reshape(28,28)\n",
    "    \n",
    "    expls[i] = x_new_np\n",
    "\n",
    "plt.figure(figsize=(20,90))\n",
    "for i in range(n):\n",
    "    # display original\n",
    "    ax = plt.subplot(1, n, i + 1)\n",
    "    plt.imshow(expls[i])\n",
    "    ax.get_xaxis().set_visible(False)\n",
    "    ax.get_yaxis().set_visible(False)\n",
    "plt.gray()\n",
    "plt.tight_layout()\n",
    "plt.show()\n"
   ]
  },
  {
   "cell_type": "markdown",
   "metadata": {},
   "source": [
    "# Supporting figures for whitebox illustration"
   ]
  },
  {
   "cell_type": "code",
   "execution_count": 7,
   "metadata": {
    "collapsed": true
   },
   "outputs": [
    {
     "name": "stderr",
     "output_type": "stream",
     "text": [
      "Using TensorFlow backend.\n",
      "/home/raj_vardhan/anaconda3/envs/torch_env/lib/python3.7/site-packages/tensorflow/python/framework/dtypes.py:526: FutureWarning: Passing (type, 1) or '1type' as a synonym of type is deprecated; in a future version of numpy, it will be understood as (type, (1,)) / '(1,)type'.\n",
      "  _np_qint8 = np.dtype([(\"qint8\", np.int8, 1)])\n",
      "/home/raj_vardhan/anaconda3/envs/torch_env/lib/python3.7/site-packages/tensorflow/python/framework/dtypes.py:527: FutureWarning: Passing (type, 1) or '1type' as a synonym of type is deprecated; in a future version of numpy, it will be understood as (type, (1,)) / '(1,)type'.\n",
      "  _np_quint8 = np.dtype([(\"quint8\", np.uint8, 1)])\n",
      "/home/raj_vardhan/anaconda3/envs/torch_env/lib/python3.7/site-packages/tensorflow/python/framework/dtypes.py:528: FutureWarning: Passing (type, 1) or '1type' as a synonym of type is deprecated; in a future version of numpy, it will be understood as (type, (1,)) / '(1,)type'.\n",
      "  _np_qint16 = np.dtype([(\"qint16\", np.int16, 1)])\n",
      "/home/raj_vardhan/anaconda3/envs/torch_env/lib/python3.7/site-packages/tensorflow/python/framework/dtypes.py:529: FutureWarning: Passing (type, 1) or '1type' as a synonym of type is deprecated; in a future version of numpy, it will be understood as (type, (1,)) / '(1,)type'.\n",
      "  _np_quint16 = np.dtype([(\"quint16\", np.uint16, 1)])\n",
      "/home/raj_vardhan/anaconda3/envs/torch_env/lib/python3.7/site-packages/tensorflow/python/framework/dtypes.py:530: FutureWarning: Passing (type, 1) or '1type' as a synonym of type is deprecated; in a future version of numpy, it will be understood as (type, (1,)) / '(1,)type'.\n",
      "  _np_qint32 = np.dtype([(\"qint32\", np.int32, 1)])\n",
      "/home/raj_vardhan/anaconda3/envs/torch_env/lib/python3.7/site-packages/tensorflow/python/framework/dtypes.py:535: FutureWarning: Passing (type, 1) or '1type' as a synonym of type is deprecated; in a future version of numpy, it will be understood as (type, (1,)) / '(1,)type'.\n",
      "  np_resource = np.dtype([(\"resource\", np.ubyte, 1)])\n"
     ]
    }
   ],
   "source": [
    "import keras\n",
    "from keras import datasets \n",
    "from torchvision import datasets, transforms\n",
    "from PIL import Image\n",
    "dataset = 'cifar10'\n",
    "attack = 'cwl2/conf_0'\n",
    "target_exp_method = 'lrp'\n",
    "\n",
    "if dataset == 'fmnist':\n",
    "    num_ch = 1\n",
    "    side = 28\n",
    "\n",
    "    (x_train_orig, y_train_orig), (x_test_orig, y_test_orig) = keras.datasets.fashion_mnist.load_data()\n",
    "\n",
    "elif dataset == 'mnist':\n",
    "    num_ch = 1\n",
    "    side = 28\n",
    "\n",
    "    (x_train_orig, y_train_orig), (x_test_orig, y_test_orig) = keras.datasets.mnist.load_data()\n",
    "\n",
    "elif dataset == 'cifar10':\n",
    "    num_ch = 3\n",
    "    side = 32\n",
    "    \n",
    "    (x_train_orig, y_train_orig), (x_test_orig, y_test_orig) = keras.datasets.cifar10.load_data()"
   ]
  },
  {
   "cell_type": "code",
   "execution_count": 14,
   "metadata": {},
   "outputs": [
    {
     "data": {
      "image/png": "[encoded data removed]",
      "text/plain": [
       "<Figure size 432x288 with 1 Axes>"
      ]
     },
     "metadata": {
      "needs_background": "light"
     },
     "output_type": "display_data"
    }
   ],
   "source": [
    "target_class_ind = 1\n",
    "choice = 0\n",
    "index = np.where(y_train_orig == target_class_ind)[0][choice]\n",
    "target_img = x_train_orig[index]\n",
    "\n",
    "expls = np.empty((1, 32, 32))\n",
    "device = torch.device(\"cuda\" if args_cuda else \"cpu\")\n",
    "exp_method = 'lrp'\n",
    "method = getattr(ExplainingMethod, exp_method)\n",
    "\n",
    "vgg_model = torchvision.models.vgg16(pretrained=True)\n",
    "model = ExplainableNet(vgg_model, data_mean=data_mean, data_std=data_std, beta=1000 if args_beta_growth else None)\n",
    "\n",
    "if method == ExplainingMethod.pattern_attribution:\n",
    "    model.load_state_dict(torch.load('../models/model_vgg16_pattern_small.pth'), strict=False)\n",
    "model = model.eval().to(device)\n",
    "\n",
    "sample = target_img.astype(np.uint8)\n",
    "x = np_img_to_tensor(sample, num_ch)\n",
    "org_expl, org_acc, org_idx = get_expl(model, x, method)\n",
    "org_expl = org_expl.detach().cpu()\n",
    "\n",
    "xnp = org_expl.numpy()\n",
    "xnp = xnp.reshape(224, 224)\n",
    "im2 = Image.fromarray(xnp)\n",
    "x_new = torchvision.transforms.ToTensor()(torchvision.transforms.Resize(32)(im2))\n",
    "x_new_np = x_new.numpy()\n",
    "x_new_np = x_new_np.reshape(32, 32)\n",
    "\n",
    "expls[0] = x_new_np\n",
    "\n",
    "ax = plt.subplot(1, 1,1)\n",
    "plt.imshow(expls[0])\n",
    "ax.get_xaxis().set_visible(False)\n",
    "ax.get_yaxis().set_visible(False)\n",
    "plt.tight_layout()\n",
    "plt.show()"
   ]
  },
  {
   "cell_type": "code",
   "execution_count": 15,
   "metadata": {},
   "outputs": [],
   "source": [
    "np.save('../output/whitebox_illustration/target_map.npy', expls[0])"
   ]
  },
  {
   "cell_type": "code",
   "execution_count": null,
   "metadata": {},
   "outputs": [],
   "source": []
  }
 ],
 "metadata": {
  "kernelspec": {
   "display_name": "torch_env",
   "language": "python",
   "name": "torch_env"
  },
  "language_info": {
   "codemirror_mode": {
    "name": "ipython",
    "version": 3
   },
   "file_extension": ".py",
   "mimetype": "text/x-python",
   "name": "python",
   "nbconvert_exporter": "python",
   "pygments_lexer": "ipython3",
   "version": "3.7.6"
  }
 },
 "nbformat": 4,
 "nbformat_minor": 4
}
